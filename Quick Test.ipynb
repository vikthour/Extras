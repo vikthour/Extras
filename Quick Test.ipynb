{
  "nbformat": 4,
  "nbformat_minor": 0,
  "metadata": {
    "colab": {
      "name": "Ushie.ipynb",
      "provenance": []
    },
    "kernelspec": {
      "name": "python3",
      "display_name": "Python 3"
    },
    "language_info": {
      "name": "python"
    }
  },
  "cells": [
    {
      "cell_type": "code",
      "metadata": {
        "colab": {
          "base_uri": "https://localhost:8080/"
        },
        "id": "25AcezTE8gCi",
        "outputId": "6ce4f469-3435-41aa-9211-aa106972546b"
      },
      "source": [
        "username = str(input(\"Can we meet you?\"))\n",
        "print(\"Welcome to our platform \", username)\n",
        "\n",
        "even_number = int(input('Enter an even number within the range 0 to 500:  '))\n",
        "\n",
        "if even_number % 2 != 0:\n",
        "  print(\"You have entered an odd number\")\n",
        "elif(even_number>=0) & (even_number <= 500):\n",
        "  print(\"You have entered an even number accurately\")\n",
        "else:\n",
        "  print(\"The number is outside our range\")"
      ],
      "execution_count": null,
      "outputs": [
        {
          "output_type": "stream",
          "name": "stdout",
          "text": [
            "Can we meet you?oseni\n",
            "Welcome to our platform  oseni\n",
            "Enter an even number within the range 0 to 500400\n",
            "You have entered an even number accurately\n"
          ]
        }
      ]
    },
    {
      "cell_type": "code",
      "metadata": {
        "colab": {
          "base_uri": "https://localhost:8080/"
        },
        "id": "piozCpfQ9lc1",
        "outputId": "8e5e95c9-09bf-4e1b-f24b-a279515d50e3"
      },
      "source": [
        "store = {'Beverage': ['Milo', 'Bournvita', 'Ovaltine', 'Twisco'],\n",
        "         'Milk': ['Cowbell', 'Dano', 'Loyal', 'Peak'],\n",
        "         'Detergent': ['Omo', 'Ariel', 'Waw', 'Kiln']}\n",
        "\n",
        "need = str(input('What do you want to purchase? '))\n",
        "\n",
        "for i in store:\n",
        "  if need != str(i):\n",
        "    print(\"Not yet found\")\n",
        "  elif need == str(i):\n",
        "    res = [val for key, val in store.items() if need in key]\n",
        "    print(\"The products in this category are\", res)\n",
        "    break\n",
        "  else:\n",
        "    print(\"Product not found in Database\")\n",
        "    break"
      ],
      "execution_count": 3,
      "outputs": [
        {
          "output_type": "stream",
          "name": "stdout",
          "text": [
            "What do you want to purchase? Fire\n",
            "Not yet found\n",
            "Not yet found\n",
            "Not yet found\n"
          ]
        }
      ]
    },
    {
      "cell_type": "code",
      "metadata": {
        "colab": {
          "base_uri": "https://localhost:8080/",
          "height": 135
        },
        "id": "6VgvXTYL_pEj",
        "outputId": "e2aaadf8-c18b-4513-b103-a2a7bc938ca5"
      },
      "source": [
        "store = {'Beverage': ['Milo', 'Bournvita', 'Ovaltine', 'Twisco'],\n",
        "         'Milk': ['Cowbell', 'Dano', 'Loyal', 'Peak'],\n",
        "         'Detergent': ['Omo', 'Ariel', 'Waw', 'Kiln']}\n",
        "\n",
        "if need != enumerate(store):\n",
        "  print(\"Not yet found\")\n",
        "elif need == str(i):\n",
        "  res = [val for key, val in store.items() if need in key]\n",
        "  print(\"The products in this category are\", res)\n",
        "  break\n",
        "else:\n",
        "  print(\"Product not found in Database\")\n",
        "  break"
      ],
      "execution_count": null,
      "outputs": [
        {
          "output_type": "error",
          "ename": "SyntaxError",
          "evalue": "ignored",
          "traceback": [
            "\u001b[0;36m  File \u001b[0;32m\"<ipython-input-102-69b6c3cc755b>\"\u001b[0;36m, line \u001b[0;32m10\u001b[0m\n\u001b[0;31m    break\u001b[0m\n\u001b[0m    ^\u001b[0m\n\u001b[0;31mSyntaxError\u001b[0m\u001b[0;31m:\u001b[0m 'break' outside loop\n"
          ]
        }
      ]
    },
    {
      "cell_type": "code",
      "metadata": {
        "id": "RASUXdvmAQuq"
      },
      "source": [
        ""
      ],
      "execution_count": null,
      "outputs": []
    }
  ]
}