{
 "cells": [
  {
   "cell_type": "markdown",
   "id": "cbe5dfdf",
   "metadata": {},
   "source": [
    "### ASSESSMENT"
   ]
  },
  {
   "cell_type": "markdown",
   "id": "90fa8171",
   "metadata": {},
   "source": [
    "You are required to make a program in which the computer randomly chooses a number between 1 to 10, 1 to 100, or any range. Then give users a hint to guess the number. Every time the user guesses wrong, he gets another clue, and his score gets reduced. The clue can be multiples, divisible, greater or smaller, or a combination of all. (Use python programming language)."
   ]
  },
  {
   "cell_type": "markdown",
   "id": "03953aae",
   "metadata": {},
   "source": [
    "#### THE APPROACH\n",
    "\n",
    "1. Make the CPU generate a random integer.\n",
    "2. Ask the user to predict an integer between 1 and 10, that is, if x is the user's prediction, 1<=x<10.\n",
    "3. If user's prediction is beyond the range of prediction in step two, ask user to predict again.\n",
    "4. If user's prediction is less than the generated value, ask the user to predict a greater number.\n",
    "5. If user's prediction is greater than the generated value, ask the user to predict a lesser number.\n",
    "6. Repeat steps 2 - 5 till the user predicts the accurate number."
   ]
  },
  {
   "cell_type": "code",
   "execution_count": 1,
   "id": "cf4666ca",
   "metadata": {},
   "outputs": [],
   "source": [
    "import numpy as np"
   ]
  },
  {
   "cell_type": "code",
   "execution_count": 2,
   "id": "a8f78d7f",
   "metadata": {},
   "outputs": [
    {
     "name": "stdout",
     "output_type": "stream",
     "text": [
      "Enter a whole number between 1 to 10:  52\n",
      "You guessed a number out of range\n",
      "Enter a whole number between 1 to 10:  10\n",
      "Guess a lesser number:  7\n",
      "Guess a lesser number:  5\n",
      "Guess a lesser number:  1\n",
      "Guess a greater number:  3\n",
      "Guess a greater number:  4\n",
      "You have guessed correctly\n"
     ]
    }
   ],
   "source": [
    "random_number = np.random.randint(1, 10)\n",
    "guess = int(input('Enter a whole number between 1 to 10:  '))\n",
    "\n",
    "while guess:\n",
    "    if (guess < 0) or (guess > 10):\n",
    "        print('You guessed a number out of range')\n",
    "        guess = int(input('Enter a whole number between 1 to 10:  '))\n",
    "    elif guess < random_number:\n",
    "        guess = int(input('Guess a greater number:  '))\n",
    "    elif guess > random_number:\n",
    "        guess = int(input('Guess a lesser number:  '))\n",
    "    else:\n",
    "        print('You have guessed correctly')\n",
    "        break"
   ]
  },
  {
   "cell_type": "code",
   "execution_count": null,
   "id": "37471772",
   "metadata": {},
   "outputs": [],
   "source": []
  }
 ],
 "metadata": {
  "kernelspec": {
   "display_name": "Python 3",
   "language": "python",
   "name": "python3"
  },
  "language_info": {
   "codemirror_mode": {
    "name": "ipython",
    "version": 3
   },
   "file_extension": ".py",
   "mimetype": "text/x-python",
   "name": "python",
   "nbconvert_exporter": "python",
   "pygments_lexer": "ipython3",
   "version": "3.8.8"
  }
 },
 "nbformat": 4,
 "nbformat_minor": 5
}
