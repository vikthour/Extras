{
  "nbformat": 4,
  "nbformat_minor": 0,
  "metadata": {
    "colab": {
      "name": "Sneek Peak into OS Module.ipynb",
      "provenance": []
    },
    "kernelspec": {
      "name": "python3",
      "display_name": "Python 3"
    },
    "language_info": {
      "name": "python"
    }
  },
  "cells": [
    {
      "cell_type": "markdown",
      "source": [
        "The OS module in Python provides functions for interacting with the operating system. OS comes under Python’s standard utility modules. "
      ],
      "metadata": {
        "id": "I0z8YWU_gLa7"
      }
    },
    {
      "cell_type": "code",
      "execution_count": 1,
      "metadata": {
        "id": "6bbyUgEmdsTe"
      },
      "outputs": [],
      "source": [
        "# To install do pip install os"
      ]
    },
    {
      "cell_type": "code",
      "source": [
        "import os"
      ],
      "metadata": {
        "id": "TfJekGC2d257"
      },
      "execution_count": 2,
      "outputs": []
    },
    {
      "cell_type": "code",
      "source": [
        "# To know the current directory you are on\n",
        "os.getcwd()"
      ],
      "metadata": {
        "colab": {
          "base_uri": "https://localhost:8080/",
          "height": 36
        },
        "id": "oq7D7959d6_s",
        "outputId": "16a12822-4597-4f29-a2c2-405453a5fd3d"
      },
      "execution_count": 3,
      "outputs": [
        {
          "output_type": "execute_result",
          "data": {
            "application/vnd.google.colaboratory.intrinsic+json": {
              "type": "string"
            },
            "text/plain": [
              "'/content'"
            ]
          },
          "metadata": {},
          "execution_count": 3
        }
      ]
    },
    {
      "cell_type": "code",
      "source": [
        "# To list files in the current directory\n",
        "os.listdir()"
      ],
      "metadata": {
        "colab": {
          "base_uri": "https://localhost:8080/"
        },
        "id": "-dgQxhT0fHEv",
        "outputId": "8eb14800-ec03-4622-dbb2-92d58dfc4078"
      },
      "execution_count": 4,
      "outputs": [
        {
          "output_type": "execute_result",
          "data": {
            "text/plain": [
              "['.config', 'sample_data']"
            ]
          },
          "metadata": {},
          "execution_count": 4
        }
      ]
    },
    {
      "cell_type": "code",
      "source": [
        "# To change the current working directory; you must include 'r' so can read the directory.\n",
        "os.chdir(r'/content/sample_data')"
      ],
      "metadata": {
        "id": "_fn3Lp8QfOcy"
      },
      "execution_count": 7,
      "outputs": []
    },
    {
      "cell_type": "code",
      "source": [
        "# To see if the change is effected\n",
        "os.getcwd()"
      ],
      "metadata": {
        "colab": {
          "base_uri": "https://localhost:8080/",
          "height": 36
        },
        "id": "e8b1WHkNf6x_",
        "outputId": "ab6a7fa1-9a0b-44f7-909d-2d84d0d4f237"
      },
      "execution_count": 9,
      "outputs": [
        {
          "output_type": "execute_result",
          "data": {
            "application/vnd.google.colaboratory.intrinsic+json": {
              "type": "string"
            },
            "text/plain": [
              "'/content/sample_data'"
            ]
          },
          "metadata": {},
          "execution_count": 9
        }
      ]
    },
    {
      "cell_type": "code",
      "source": [
        "#To access the list of directories and file in your current directory; you will see files with their extensions while directories will have no extension.\n",
        "\n",
        "print(os.listdir())"
      ],
      "metadata": {
        "colab": {
          "base_uri": "https://localhost:8080/"
        },
        "id": "cMcPL6lrgrCp",
        "outputId": "036e4fa6-4ecf-4626-b1df-3e73b7b94ca9"
      },
      "execution_count": 10,
      "outputs": [
        {
          "output_type": "stream",
          "name": "stdout",
          "text": [
            "['anscombe.json', 'README.md', 'mnist_train_small.csv', 'mnist_test.csv', 'california_housing_train.csv', 'california_housing_test.csv']\n"
          ]
        }
      ]
    },
    {
      "cell_type": "code",
      "source": [
        "os.chdir(r'/content/')"
      ],
      "metadata": {
        "id": "6ZaNetvxhsPS"
      },
      "execution_count": 14,
      "outputs": []
    },
    {
      "cell_type": "code",
      "source": [
        "for root, directory, file in os.walk(os.getcwd()):\n",
        "  print(root) #All posssible root directories\n",
        "  print('-'*10)\n",
        "  print(directory) # To acess all the directories\n",
        "  print(file) # To access all the files"
      ],
      "metadata": {
        "colab": {
          "base_uri": "https://localhost:8080/"
        },
        "id": "kJ0jZVyJg-LU",
        "outputId": "537a22a6-0456-491d-9720-f341685ca999"
      },
      "execution_count": 18,
      "outputs": [
        {
          "output_type": "stream",
          "name": "stdout",
          "text": [
            "/content\n",
            "----------\n",
            "['.config', 'sample_data']\n",
            "[]\n",
            "/content/.config\n",
            "----------\n",
            "['configurations', 'logs']\n",
            "['active_config', 'config_sentinel', '.last_update_check.json', '.last_opt_in_prompt.yaml', 'gce', '.last_survey_prompt.yaml']\n",
            "/content/.config/configurations\n",
            "----------\n",
            "[]\n",
            "['config_default']\n",
            "/content/.config/logs\n",
            "----------\n",
            "['2022.01.07']\n",
            "[]\n",
            "/content/.config/logs/2022.01.07\n",
            "----------\n",
            "[]\n",
            "['14.32.37.114755.log', '14.33.22.232212.log', '14.32.57.118850.log', '14.33.15.504888.log', '14.33.42.565580.log', '14.33.41.864886.log']\n",
            "/content/sample_data\n",
            "----------\n",
            "[]\n",
            "['anscombe.json', 'README.md', 'mnist_train_small.csv', 'mnist_test.csv', 'california_housing_train.csv', 'california_housing_test.csv']\n"
          ]
        }
      ]
    },
    {
      "cell_type": "code",
      "source": [
        "# To access files with a known extension.\n",
        "for root, directory, file in os.walk(os.getcwd()):\n",
        "  for f in file:\n",
        "    if \".yaml\" in f:  #extension\n",
        "      print(f)"
      ],
      "metadata": {
        "colab": {
          "base_uri": "https://localhost:8080/"
        },
        "id": "48oR7sLfheSo",
        "outputId": "4ff98d48-4916-47b8-bd34-6c4b26a0e092"
      },
      "execution_count": 23,
      "outputs": [
        {
          "output_type": "stream",
          "name": "stdout",
          "text": [
            ".last_opt_in_prompt.yaml\n",
            ".last_survey_prompt.yaml\n"
          ]
        }
      ]
    },
    {
      "cell_type": "code",
      "source": [
        "# To get the file by iterating over the first character.\n",
        "\n",
        "for root, directory, file in os.walk(os.getcwd()):\n",
        "  for f in file:\n",
        "    if f[0] == 'a' or f[0] == 'R':  \n",
        "      print(f)"
      ],
      "metadata": {
        "colab": {
          "base_uri": "https://localhost:8080/"
        },
        "id": "3Jhlayz8jJUh",
        "outputId": "424bf0d8-1275-4acf-b7ea-416fd3484561"
      },
      "execution_count": 24,
      "outputs": [
        {
          "output_type": "stream",
          "name": "stdout",
          "text": [
            "active_config\n",
            "anscombe.json\n",
            "README.md\n"
          ]
        }
      ]
    },
    {
      "cell_type": "code",
      "source": [
        "# To access all the filepath\n",
        "for root, directory, file in os.walk(os.getcwd()):\n",
        "  for f in file:\n",
        "    print(root + \"\\\\\" + f) #Addd the filename to the root directory."
      ],
      "metadata": {
        "colab": {
          "base_uri": "https://localhost:8080/"
        },
        "id": "YweG7N50jJJh",
        "outputId": "e089f087-d940-4a35-9f57-898f43a5aa5c"
      },
      "execution_count": 30,
      "outputs": [
        {
          "output_type": "stream",
          "name": "stdout",
          "text": [
            "/content/.config\\active_config\n",
            "/content/.config\\config_sentinel\n",
            "/content/.config\\.last_update_check.json\n",
            "/content/.config\\.last_opt_in_prompt.yaml\n",
            "/content/.config\\gce\n",
            "/content/.config\\.last_survey_prompt.yaml\n",
            "/content/.config/configurations\\config_default\n",
            "/content/.config/logs/2022.01.07\\14.32.37.114755.log\n",
            "/content/.config/logs/2022.01.07\\14.33.22.232212.log\n",
            "/content/.config/logs/2022.01.07\\14.32.57.118850.log\n",
            "/content/.config/logs/2022.01.07\\14.33.15.504888.log\n",
            "/content/.config/logs/2022.01.07\\14.33.42.565580.log\n",
            "/content/.config/logs/2022.01.07\\14.33.41.864886.log\n",
            "/content/sample_data\\anscombe.json\n",
            "/content/sample_data\\README.md\n",
            "/content/sample_data\\mnist_train_small.csv\n",
            "/content/sample_data\\mnist_test.csv\n",
            "/content/sample_data\\california_housing_train.csv\n",
            "/content/sample_data\\california_housing_test.csv\n"
          ]
        }
      ]
    },
    {
      "cell_type": "code",
      "source": [
        "# To create a new folder/directory\n",
        "os.mkdir('Testing_folder')"
      ],
      "metadata": {
        "id": "DwKfQGpXjJDy"
      },
      "execution_count": 31,
      "outputs": []
    },
    {
      "cell_type": "code",
      "source": [
        "#To delete a directory\n",
        "os.rmdir(\"Testingfolder\") # The folder name must be spelt correctly else an error"
      ],
      "metadata": {
        "colab": {
          "base_uri": "https://localhost:8080/",
          "height": 190
        },
        "id": "yXmHxUE3m4vi",
        "outputId": "ca37aea3-a302-470f-dff4-d15a5314dcdd"
      },
      "execution_count": 33,
      "outputs": [
        {
          "output_type": "error",
          "ename": "FileNotFoundError",
          "evalue": "ignored",
          "traceback": [
            "\u001b[0;31m---------------------------------------------------------------------------\u001b[0m",
            "\u001b[0;31mFileNotFoundError\u001b[0m                         Traceback (most recent call last)",
            "\u001b[0;32m<ipython-input-33-fce0ec85511c>\u001b[0m in \u001b[0;36m<module>\u001b[0;34m()\u001b[0m\n\u001b[1;32m      1\u001b[0m \u001b[0;31m#To delete a directory\u001b[0m\u001b[0;34m\u001b[0m\u001b[0;34m\u001b[0m\u001b[0;34m\u001b[0m\u001b[0m\n\u001b[0;32m----> 2\u001b[0;31m \u001b[0mos\u001b[0m\u001b[0;34m.\u001b[0m\u001b[0mrmdir\u001b[0m\u001b[0;34m(\u001b[0m\u001b[0;34m\"Testing folder\"\u001b[0m\u001b[0;34m)\u001b[0m\u001b[0;34m\u001b[0m\u001b[0;34m\u001b[0m\u001b[0m\n\u001b[0m",
            "\u001b[0;31mFileNotFoundError\u001b[0m: [Errno 2] No such file or directory: 'Testing folder'"
          ]
        }
      ]
    },
    {
      "cell_type": "code",
      "source": [
        "#To delete a directory\n",
        "os.rmdir(\"Testing_folder\") # The folder name must be spelt correctly else an error"
      ],
      "metadata": {
        "id": "cZacKIIMm8yr"
      },
      "execution_count": 34,
      "outputs": []
    },
    {
      "cell_type": "code",
      "source": [
        "path = r\"/content/sample_data\""
      ],
      "metadata": {
        "id": "qX-exCEGnxnG"
      },
      "execution_count": 36,
      "outputs": []
    },
    {
      "cell_type": "code",
      "source": [
        "#To delete a non-empty directory\n",
        "os.rmdir(path)"
      ],
      "metadata": {
        "colab": {
          "base_uri": "https://localhost:8080/",
          "height": 190
        },
        "id": "6E98dxJ9oCEN",
        "outputId": "bf816671-9743-43fa-ef67-f48c8bf116e5"
      },
      "execution_count": 38,
      "outputs": [
        {
          "output_type": "error",
          "ename": "OSError",
          "evalue": "ignored",
          "traceback": [
            "\u001b[0;31m---------------------------------------------------------------------------\u001b[0m",
            "\u001b[0;31mOSError\u001b[0m                                   Traceback (most recent call last)",
            "\u001b[0;32m<ipython-input-38-0a74c644c4fc>\u001b[0m in \u001b[0;36m<module>\u001b[0;34m()\u001b[0m\n\u001b[1;32m      1\u001b[0m \u001b[0;31m#To delete a non-empty directory\u001b[0m\u001b[0;34m\u001b[0m\u001b[0;34m\u001b[0m\u001b[0;34m\u001b[0m\u001b[0m\n\u001b[0;32m----> 2\u001b[0;31m \u001b[0mos\u001b[0m\u001b[0;34m.\u001b[0m\u001b[0mrmdir\u001b[0m\u001b[0;34m(\u001b[0m\u001b[0mpath\u001b[0m\u001b[0;34m)\u001b[0m\u001b[0;34m\u001b[0m\u001b[0;34m\u001b[0m\u001b[0m\n\u001b[0m",
            "\u001b[0;31mOSError\u001b[0m: [Errno 39] Directory not empty: '/content/sample_data'"
          ]
        }
      ]
    },
    {
      "cell_type": "code",
      "source": [
        "# To delete a non-empty directory, we will use the shutil module\n",
        "\n",
        "import shutil"
      ],
      "metadata": {
        "id": "gKsU1aSGoGOX"
      },
      "execution_count": 40,
      "outputs": []
    },
    {
      "cell_type": "code",
      "source": [
        "#shutil.rmtree(path)"
      ],
      "metadata": {
        "id": "mpXu7t-GoVmj"
      },
      "execution_count": 41,
      "outputs": []
    },
    {
      "cell_type": "code",
      "source": [
        "# To create multiple directory; \n",
        "os.makedirs(\"A/B/C/D\")"
      ],
      "metadata": {
        "id": "ysCsQvoOouoL"
      },
      "execution_count": 43,
      "outputs": []
    },
    {
      "cell_type": "code",
      "source": [
        "os.listdir()"
      ],
      "metadata": {
        "colab": {
          "base_uri": "https://localhost:8080/"
        },
        "id": "jnSgYD3epPCG",
        "outputId": "896c67d7-cde3-44d5-b7ce-08f51000214e"
      },
      "execution_count": 44,
      "outputs": [
        {
          "output_type": "execute_result",
          "data": {
            "text/plain": [
              "['.config', 'A', 'sample_data']"
            ]
          },
          "metadata": {},
          "execution_count": 44
        }
      ]
    },
    {
      "cell_type": "code",
      "source": [
        "# To remove multiple directories which is empty\n",
        "os.removedirs(\"A/B/C/D\")"
      ],
      "metadata": {
        "id": "xrnTPF3ko5ST"
      },
      "execution_count": 45,
      "outputs": []
    },
    {
      "cell_type": "code",
      "source": [
        "os.listdir()"
      ],
      "metadata": {
        "colab": {
          "base_uri": "https://localhost:8080/"
        },
        "id": "Sz3-ymTppD-9",
        "outputId": "3bb26150-1c71-4289-87c4-efbea9fe05d8"
      },
      "execution_count": 46,
      "outputs": [
        {
          "output_type": "execute_result",
          "data": {
            "text/plain": [
              "['.config', 'sample_data']"
            ]
          },
          "metadata": {},
          "execution_count": 46
        }
      ]
    },
    {
      "cell_type": "code",
      "source": [
        "os.chdir(r'/content/sample_data')"
      ],
      "metadata": {
        "id": "5auZ_VmapDzF"
      },
      "execution_count": 51,
      "outputs": []
    },
    {
      "cell_type": "code",
      "source": [
        "print(os.listdir())"
      ],
      "metadata": {
        "colab": {
          "base_uri": "https://localhost:8080/"
        },
        "id": "GiR3-tFspiPv",
        "outputId": "64e26a0d-21ff-4439-c389-fec0d0746bee"
      },
      "execution_count": 52,
      "outputs": [
        {
          "output_type": "stream",
          "name": "stdout",
          "text": [
            "['anscombe.json', 'README.md', 'mnist_train_small.csv', 'mnist_test.csv', 'california_housing_train.csv', 'california_housing_test.csv']\n"
          ]
        }
      ]
    },
    {
      "cell_type": "code",
      "source": [
        "#To rename a file\n",
        "os.rename(\"anscombe.json\", \"Anascombe.json\")"
      ],
      "metadata": {
        "id": "Rhd7py_fp__s"
      },
      "execution_count": 53,
      "outputs": []
    },
    {
      "cell_type": "code",
      "source": [
        "print(os.listdir())"
      ],
      "metadata": {
        "colab": {
          "base_uri": "https://localhost:8080/"
        },
        "id": "q2bk6pjgp_1M",
        "outputId": "4218b894-615b-4401-b8d8-1d82d242fd2b"
      },
      "execution_count": 54,
      "outputs": [
        {
          "output_type": "stream",
          "name": "stdout",
          "text": [
            "['README.md', 'Anascombe.json', 'mnist_train_small.csv', 'mnist_test.csv', 'california_housing_train.csv', 'california_housing_test.csv']\n"
          ]
        }
      ]
    },
    {
      "cell_type": "code",
      "source": [
        "#To check file size (result is in bytes)\n",
        "os.stat(\"Anascombe.json\").st_size "
      ],
      "metadata": {
        "colab": {
          "base_uri": "https://localhost:8080/"
        },
        "id": "w5OB0bKisEpc",
        "outputId": "45959f68-1f78-4946-988f-4176c0de6c9c"
      },
      "execution_count": 56,
      "outputs": [
        {
          "output_type": "execute_result",
          "data": {
            "text/plain": [
              "1697"
            ]
          },
          "metadata": {},
          "execution_count": 56
        }
      ]
    },
    {
      "cell_type": "code",
      "source": [
        "#Divide by 1024 to convert to kilobytes\n",
        "os.stat(\"Anascombe.json\").st_size / 1024"
      ],
      "metadata": {
        "colab": {
          "base_uri": "https://localhost:8080/"
        },
        "id": "qHzDrFn4sHbu",
        "outputId": "edde929b-2d06-49e3-c720-e710e8348ac6"
      },
      "execution_count": 57,
      "outputs": [
        {
          "output_type": "execute_result",
          "data": {
            "text/plain": [
              "1.6572265625"
            ]
          },
          "metadata": {},
          "execution_count": 57
        }
      ]
    },
    {
      "cell_type": "code",
      "source": [
        "#Use the pow function to duplicate the division process to get the size in MB (Megabytes)\n",
        "# You can change the second argument in the function to determine the power\n",
        "\n",
        "os.stat(\"Anascombe.json\").st_size / pow(1024, 2)"
      ],
      "metadata": {
        "colab": {
          "base_uri": "https://localhost:8080/"
        },
        "id": "rK1RZfuGsHTI",
        "outputId": "d9193f10-78cc-4908-c341-533a38091304"
      },
      "execution_count": 59,
      "outputs": [
        {
          "output_type": "execute_result",
          "data": {
            "text/plain": [
              "0.0016183853149414062"
            ]
          },
          "metadata": {},
          "execution_count": 59
        }
      ]
    },
    {
      "cell_type": "code",
      "source": [
        "# To get desktop folder path\n",
        "\n",
        "#os.environ[\"UserProfile\"] + \"\\Downloads\""
      ],
      "metadata": {
        "id": "yarZirGnsuWK"
      },
      "execution_count": 62,
      "outputs": []
    },
    {
      "cell_type": "code",
      "source": [
        "#Another way to acess desktop filepath (The last directory can be changed to the folder you want to access)\n",
        "\n",
        "os.path.normpath(os.path.expanduser(\"~/Desktop\"))"
      ],
      "metadata": {
        "id": "ra4aQUP2tA4y"
      },
      "execution_count": null,
      "outputs": []
    },
    {
      "cell_type": "code",
      "source": [
        ""
      ],
      "metadata": {
        "id": "07ikrBCnt4pw"
      },
      "execution_count": null,
      "outputs": []
    }
  ]
}