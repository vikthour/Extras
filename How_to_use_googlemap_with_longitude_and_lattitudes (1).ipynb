{
  "nbformat": 4,
  "nbformat_minor": 0,
  "metadata": {
    "colab": {
      "name": "How_to_use_googlemap_with_longitude_and_lattitudes.ipynb",
      "provenance": []
    },
    "kernelspec": {
      "name": "python3",
      "display_name": "Python 3"
    },
    "language_info": {
      "name": "python"
    }
  },
  "cells": [
    {
      "cell_type": "code",
      "execution_count": 1,
      "metadata": {
        "colab": {
          "base_uri": "https://localhost:8080/"
        },
        "id": "cUqxRwF1siqm",
        "outputId": "d2cc151e-e14f-479b-e2a4-f37fcc74314c"
      },
      "outputs": [
        {
          "output_type": "stream",
          "name": "stdout",
          "text": [
            "Collecting geopandas\n",
            "  Downloading geopandas-0.10.2-py2.py3-none-any.whl (1.0 MB)\n",
            "\u001b[?25l\r\u001b[K     |▎                               | 10 kB 22.2 MB/s eta 0:00:01\r\u001b[K     |▋                               | 20 kB 27.0 MB/s eta 0:00:01\r\u001b[K     |█                               | 30 kB 23.7 MB/s eta 0:00:01\r\u001b[K     |█▎                              | 40 kB 13.9 MB/s eta 0:00:01\r\u001b[K     |█▋                              | 51 kB 8.7 MB/s eta 0:00:01\r\u001b[K     |██                              | 61 kB 8.5 MB/s eta 0:00:01\r\u001b[K     |██▎                             | 71 kB 8.4 MB/s eta 0:00:01\r\u001b[K     |██▌                             | 81 kB 9.3 MB/s eta 0:00:01\r\u001b[K     |██▉                             | 92 kB 9.3 MB/s eta 0:00:01\r\u001b[K     |███▏                            | 102 kB 8.0 MB/s eta 0:00:01\r\u001b[K     |███▌                            | 112 kB 8.0 MB/s eta 0:00:01\r\u001b[K     |███▉                            | 122 kB 8.0 MB/s eta 0:00:01\r\u001b[K     |████▏                           | 133 kB 8.0 MB/s eta 0:00:01\r\u001b[K     |████▌                           | 143 kB 8.0 MB/s eta 0:00:01\r\u001b[K     |████▊                           | 153 kB 8.0 MB/s eta 0:00:01\r\u001b[K     |█████                           | 163 kB 8.0 MB/s eta 0:00:01\r\u001b[K     |█████▍                          | 174 kB 8.0 MB/s eta 0:00:01\r\u001b[K     |█████▊                          | 184 kB 8.0 MB/s eta 0:00:01\r\u001b[K     |██████                          | 194 kB 8.0 MB/s eta 0:00:01\r\u001b[K     |██████▍                         | 204 kB 8.0 MB/s eta 0:00:01\r\u001b[K     |██████▊                         | 215 kB 8.0 MB/s eta 0:00:01\r\u001b[K     |███████                         | 225 kB 8.0 MB/s eta 0:00:01\r\u001b[K     |███████▎                        | 235 kB 8.0 MB/s eta 0:00:01\r\u001b[K     |███████▋                        | 245 kB 8.0 MB/s eta 0:00:01\r\u001b[K     |████████                        | 256 kB 8.0 MB/s eta 0:00:01\r\u001b[K     |████████▎                       | 266 kB 8.0 MB/s eta 0:00:01\r\u001b[K     |████████▋                       | 276 kB 8.0 MB/s eta 0:00:01\r\u001b[K     |█████████                       | 286 kB 8.0 MB/s eta 0:00:01\r\u001b[K     |█████████▏                      | 296 kB 8.0 MB/s eta 0:00:01\r\u001b[K     |█████████▌                      | 307 kB 8.0 MB/s eta 0:00:01\r\u001b[K     |█████████▉                      | 317 kB 8.0 MB/s eta 0:00:01\r\u001b[K     |██████████▏                     | 327 kB 8.0 MB/s eta 0:00:01\r\u001b[K     |██████████▌                     | 337 kB 8.0 MB/s eta 0:00:01\r\u001b[K     |██████████▉                     | 348 kB 8.0 MB/s eta 0:00:01\r\u001b[K     |███████████▏                    | 358 kB 8.0 MB/s eta 0:00:01\r\u001b[K     |███████████▍                    | 368 kB 8.0 MB/s eta 0:00:01\r\u001b[K     |███████████▊                    | 378 kB 8.0 MB/s eta 0:00:01\r\u001b[K     |████████████                    | 389 kB 8.0 MB/s eta 0:00:01\r\u001b[K     |████████████▍                   | 399 kB 8.0 MB/s eta 0:00:01\r\u001b[K     |████████████▊                   | 409 kB 8.0 MB/s eta 0:00:01\r\u001b[K     |█████████████                   | 419 kB 8.0 MB/s eta 0:00:01\r\u001b[K     |█████████████▍                  | 430 kB 8.0 MB/s eta 0:00:01\r\u001b[K     |█████████████▋                  | 440 kB 8.0 MB/s eta 0:00:01\r\u001b[K     |██████████████                  | 450 kB 8.0 MB/s eta 0:00:01\r\u001b[K     |██████████████▎                 | 460 kB 8.0 MB/s eta 0:00:01\r\u001b[K     |██████████████▋                 | 471 kB 8.0 MB/s eta 0:00:01\r\u001b[K     |███████████████                 | 481 kB 8.0 MB/s eta 0:00:01\r\u001b[K     |███████████████▎                | 491 kB 8.0 MB/s eta 0:00:01\r\u001b[K     |███████████████▋                | 501 kB 8.0 MB/s eta 0:00:01\r\u001b[K     |███████████████▉                | 512 kB 8.0 MB/s eta 0:00:01\r\u001b[K     |████████████████▏               | 522 kB 8.0 MB/s eta 0:00:01\r\u001b[K     |████████████████▌               | 532 kB 8.0 MB/s eta 0:00:01\r\u001b[K     |████████████████▉               | 542 kB 8.0 MB/s eta 0:00:01\r\u001b[K     |█████████████████▏              | 552 kB 8.0 MB/s eta 0:00:01\r\u001b[K     |█████████████████▌              | 563 kB 8.0 MB/s eta 0:00:01\r\u001b[K     |█████████████████▉              | 573 kB 8.0 MB/s eta 0:00:01\r\u001b[K     |██████████████████              | 583 kB 8.0 MB/s eta 0:00:01\r\u001b[K     |██████████████████▍             | 593 kB 8.0 MB/s eta 0:00:01\r\u001b[K     |██████████████████▊             | 604 kB 8.0 MB/s eta 0:00:01\r\u001b[K     |███████████████████             | 614 kB 8.0 MB/s eta 0:00:01\r\u001b[K     |███████████████████▍            | 624 kB 8.0 MB/s eta 0:00:01\r\u001b[K     |███████████████████▊            | 634 kB 8.0 MB/s eta 0:00:01\r\u001b[K     |████████████████████            | 645 kB 8.0 MB/s eta 0:00:01\r\u001b[K     |████████████████████▎           | 655 kB 8.0 MB/s eta 0:00:01\r\u001b[K     |████████████████████▋           | 665 kB 8.0 MB/s eta 0:00:01\r\u001b[K     |█████████████████████           | 675 kB 8.0 MB/s eta 0:00:01\r\u001b[K     |█████████████████████▎          | 686 kB 8.0 MB/s eta 0:00:01\r\u001b[K     |█████████████████████▋          | 696 kB 8.0 MB/s eta 0:00:01\r\u001b[K     |██████████████████████          | 706 kB 8.0 MB/s eta 0:00:01\r\u001b[K     |██████████████████████▎         | 716 kB 8.0 MB/s eta 0:00:01\r\u001b[K     |██████████████████████▋         | 727 kB 8.0 MB/s eta 0:00:01\r\u001b[K     |██████████████████████▉         | 737 kB 8.0 MB/s eta 0:00:01\r\u001b[K     |███████████████████████▏        | 747 kB 8.0 MB/s eta 0:00:01\r\u001b[K     |███████████████████████▌        | 757 kB 8.0 MB/s eta 0:00:01\r\u001b[K     |███████████████████████▉        | 768 kB 8.0 MB/s eta 0:00:01\r\u001b[K     |████████████████████████▏       | 778 kB 8.0 MB/s eta 0:00:01\r\u001b[K     |████████████████████████▌       | 788 kB 8.0 MB/s eta 0:00:01\r\u001b[K     |████████████████████████▉       | 798 kB 8.0 MB/s eta 0:00:01\r\u001b[K     |█████████████████████████       | 808 kB 8.0 MB/s eta 0:00:01\r\u001b[K     |█████████████████████████▍      | 819 kB 8.0 MB/s eta 0:00:01\r\u001b[K     |█████████████████████████▊      | 829 kB 8.0 MB/s eta 0:00:01\r\u001b[K     |██████████████████████████      | 839 kB 8.0 MB/s eta 0:00:01\r\u001b[K     |██████████████████████████▍     | 849 kB 8.0 MB/s eta 0:00:01\r\u001b[K     |██████████████████████████▊     | 860 kB 8.0 MB/s eta 0:00:01\r\u001b[K     |███████████████████████████     | 870 kB 8.0 MB/s eta 0:00:01\r\u001b[K     |███████████████████████████▎    | 880 kB 8.0 MB/s eta 0:00:01\r\u001b[K     |███████████████████████████▋    | 890 kB 8.0 MB/s eta 0:00:01\r\u001b[K     |████████████████████████████    | 901 kB 8.0 MB/s eta 0:00:01\r\u001b[K     |████████████████████████████▎   | 911 kB 8.0 MB/s eta 0:00:01\r\u001b[K     |████████████████████████████▋   | 921 kB 8.0 MB/s eta 0:00:01\r\u001b[K     |█████████████████████████████   | 931 kB 8.0 MB/s eta 0:00:01\r\u001b[K     |█████████████████████████████▎  | 942 kB 8.0 MB/s eta 0:00:01\r\u001b[K     |█████████████████████████████▌  | 952 kB 8.0 MB/s eta 0:00:01\r\u001b[K     |█████████████████████████████▉  | 962 kB 8.0 MB/s eta 0:00:01\r\u001b[K     |██████████████████████████████▏ | 972 kB 8.0 MB/s eta 0:00:01\r\u001b[K     |██████████████████████████████▌ | 983 kB 8.0 MB/s eta 0:00:01\r\u001b[K     |██████████████████████████████▉ | 993 kB 8.0 MB/s eta 0:00:01\r\u001b[K     |███████████████████████████████▏| 1.0 MB 8.0 MB/s eta 0:00:01\r\u001b[K     |███████████████████████████████▌| 1.0 MB 8.0 MB/s eta 0:00:01\r\u001b[K     |███████████████████████████████▊| 1.0 MB 8.0 MB/s eta 0:00:01\r\u001b[K     |████████████████████████████████| 1.0 MB 8.0 MB/s \n",
            "\u001b[?25hRequirement already satisfied: shapely>=1.6 in /usr/local/lib/python3.7/dist-packages (from geopandas) (1.8.0)\n",
            "Collecting fiona>=1.8\n",
            "  Downloading Fiona-1.8.20-cp37-cp37m-manylinux1_x86_64.whl (15.4 MB)\n",
            "\u001b[K     |████████████████████████████████| 15.4 MB 47.9 MB/s \n",
            "\u001b[?25hCollecting pyproj>=2.2.0\n",
            "  Downloading pyproj-3.2.1-cp37-cp37m-manylinux2010_x86_64.whl (6.3 MB)\n",
            "\u001b[K     |████████████████████████████████| 6.3 MB 39.6 MB/s \n",
            "\u001b[?25hRequirement already satisfied: pandas>=0.25.0 in /usr/local/lib/python3.7/dist-packages (from geopandas) (1.1.5)\n",
            "Requirement already satisfied: certifi in /usr/local/lib/python3.7/dist-packages (from fiona>=1.8->geopandas) (2021.10.8)\n",
            "Requirement already satisfied: six>=1.7 in /usr/local/lib/python3.7/dist-packages (from fiona>=1.8->geopandas) (1.15.0)\n",
            "Requirement already satisfied: click>=4.0 in /usr/local/lib/python3.7/dist-packages (from fiona>=1.8->geopandas) (7.1.2)\n",
            "Collecting click-plugins>=1.0\n",
            "  Downloading click_plugins-1.1.1-py2.py3-none-any.whl (7.5 kB)\n",
            "Requirement already satisfied: setuptools in /usr/local/lib/python3.7/dist-packages (from fiona>=1.8->geopandas) (57.4.0)\n",
            "Requirement already satisfied: attrs>=17 in /usr/local/lib/python3.7/dist-packages (from fiona>=1.8->geopandas) (21.4.0)\n",
            "Collecting munch\n",
            "  Downloading munch-2.5.0-py2.py3-none-any.whl (10 kB)\n",
            "Collecting cligj>=0.5\n",
            "  Downloading cligj-0.7.2-py3-none-any.whl (7.1 kB)\n",
            "Requirement already satisfied: python-dateutil>=2.7.3 in /usr/local/lib/python3.7/dist-packages (from pandas>=0.25.0->geopandas) (2.8.2)\n",
            "Requirement already satisfied: numpy>=1.15.4 in /usr/local/lib/python3.7/dist-packages (from pandas>=0.25.0->geopandas) (1.19.5)\n",
            "Requirement already satisfied: pytz>=2017.2 in /usr/local/lib/python3.7/dist-packages (from pandas>=0.25.0->geopandas) (2018.9)\n",
            "Installing collected packages: munch, cligj, click-plugins, pyproj, fiona, geopandas\n",
            "Successfully installed click-plugins-1.1.1 cligj-0.7.2 fiona-1.8.20 geopandas-0.10.2 munch-2.5.0 pyproj-3.2.1\n"
          ]
        }
      ],
      "source": [
        "pip install geopandas"
      ]
    },
    {
      "cell_type": "code",
      "source": [
        "pip install geopy"
      ],
      "metadata": {
        "colab": {
          "base_uri": "https://localhost:8080/"
        },
        "id": "-WnXkd89s3eH",
        "outputId": "80fa21fe-6fe2-4e19-f6d3-02fb95608bf1"
      },
      "execution_count": 2,
      "outputs": [
        {
          "output_type": "stream",
          "name": "stdout",
          "text": [
            "Requirement already satisfied: geopy in /usr/local/lib/python3.7/dist-packages (1.17.0)\n",
            "Requirement already satisfied: geographiclib<2,>=1.49 in /usr/local/lib/python3.7/dist-packages (from geopy) (1.52)\n"
          ]
        }
      ]
    },
    {
      "cell_type": "code",
      "source": [
        "#Let's import the file using pandas\n",
        "import pandas as pd"
      ],
      "metadata": {
        "id": "q9utnw87uavw"
      },
      "execution_count": 3,
      "outputs": []
    },
    {
      "cell_type": "code",
      "source": [
        "database = pd.read_excel('/content/frigo new.xls')\n",
        "database.head(1)"
      ],
      "metadata": {
        "id": "SPJqPB_XuyOH",
        "colab": {
          "base_uri": "https://localhost:8080/",
          "height": 124
        },
        "outputId": "761ba137-a99f-4ef2-91d3-a72f2a7c91f9"
      },
      "execution_count": 68,
      "outputs": [
        {
          "output_type": "execute_result",
          "data": {
            "text/html": [
              "\n",
              "  <div id=\"df-cb8c3c7c-55ed-419b-922b-f8697ddc12f7\">\n",
              "    <div class=\"colab-df-container\">\n",
              "      <div>\n",
              "<style scoped>\n",
              "    .dataframe tbody tr th:only-of-type {\n",
              "        vertical-align: middle;\n",
              "    }\n",
              "\n",
              "    .dataframe tbody tr th {\n",
              "        vertical-align: top;\n",
              "    }\n",
              "\n",
              "    .dataframe thead th {\n",
              "        text-align: right;\n",
              "    }\n",
              "</style>\n",
              "<table border=\"1\" class=\"dataframe\">\n",
              "  <thead>\n",
              "    <tr style=\"text-align: right;\">\n",
              "      <th></th>\n",
              "      <th>Tracker name</th>\n",
              "      <th>Start time</th>\n",
              "      <th>Stop time</th>\n",
              "      <th>Duration</th>\n",
              "      <th>Total Distance</th>\n",
              "      <th>Start address</th>\n",
              "      <th>Stop address</th>\n",
              "      <th>Net driving time</th>\n",
              "    </tr>\n",
              "  </thead>\n",
              "  <tbody>\n",
              "    <tr>\n",
              "      <th>0</th>\n",
              "      <td>AJAI KUMAR SINGH</td>\n",
              "      <td>2022-01-15 02:46:27</td>\n",
              "      <td>2022-01-15 02:57:34</td>\n",
              "      <td>0:11</td>\n",
              "      <td>0.02</td>\n",
              "      <td>7.365020,3.868126</td>\n",
              "      <td>7.365098,3.868221</td>\n",
              "      <td>0:11:07</td>\n",
              "    </tr>\n",
              "  </tbody>\n",
              "</table>\n",
              "</div>\n",
              "      <button class=\"colab-df-convert\" onclick=\"convertToInteractive('df-cb8c3c7c-55ed-419b-922b-f8697ddc12f7')\"\n",
              "              title=\"Convert this dataframe to an interactive table.\"\n",
              "              style=\"display:none;\">\n",
              "        \n",
              "  <svg xmlns=\"http://www.w3.org/2000/svg\" height=\"24px\"viewBox=\"0 0 24 24\"\n",
              "       width=\"24px\">\n",
              "    <path d=\"M0 0h24v24H0V0z\" fill=\"none\"/>\n",
              "    <path d=\"M18.56 5.44l.94 2.06.94-2.06 2.06-.94-2.06-.94-.94-2.06-.94 2.06-2.06.94zm-11 1L8.5 8.5l.94-2.06 2.06-.94-2.06-.94L8.5 2.5l-.94 2.06-2.06.94zm10 10l.94 2.06.94-2.06 2.06-.94-2.06-.94-.94-2.06-.94 2.06-2.06.94z\"/><path d=\"M17.41 7.96l-1.37-1.37c-.4-.4-.92-.59-1.43-.59-.52 0-1.04.2-1.43.59L10.3 9.45l-7.72 7.72c-.78.78-.78 2.05 0 2.83L4 21.41c.39.39.9.59 1.41.59.51 0 1.02-.2 1.41-.59l7.78-7.78 2.81-2.81c.8-.78.8-2.07 0-2.86zM5.41 20L4 18.59l7.72-7.72 1.47 1.35L5.41 20z\"/>\n",
              "  </svg>\n",
              "      </button>\n",
              "      \n",
              "  <style>\n",
              "    .colab-df-container {\n",
              "      display:flex;\n",
              "      flex-wrap:wrap;\n",
              "      gap: 12px;\n",
              "    }\n",
              "\n",
              "    .colab-df-convert {\n",
              "      background-color: #E8F0FE;\n",
              "      border: none;\n",
              "      border-radius: 50%;\n",
              "      cursor: pointer;\n",
              "      display: none;\n",
              "      fill: #1967D2;\n",
              "      height: 32px;\n",
              "      padding: 0 0 0 0;\n",
              "      width: 32px;\n",
              "    }\n",
              "\n",
              "    .colab-df-convert:hover {\n",
              "      background-color: #E2EBFA;\n",
              "      box-shadow: 0px 1px 2px rgba(60, 64, 67, 0.3), 0px 1px 3px 1px rgba(60, 64, 67, 0.15);\n",
              "      fill: #174EA6;\n",
              "    }\n",
              "\n",
              "    [theme=dark] .colab-df-convert {\n",
              "      background-color: #3B4455;\n",
              "      fill: #D2E3FC;\n",
              "    }\n",
              "\n",
              "    [theme=dark] .colab-df-convert:hover {\n",
              "      background-color: #434B5C;\n",
              "      box-shadow: 0px 1px 3px 1px rgba(0, 0, 0, 0.15);\n",
              "      filter: drop-shadow(0px 1px 2px rgba(0, 0, 0, 0.3));\n",
              "      fill: #FFFFFF;\n",
              "    }\n",
              "  </style>\n",
              "\n",
              "      <script>\n",
              "        const buttonEl =\n",
              "          document.querySelector('#df-cb8c3c7c-55ed-419b-922b-f8697ddc12f7 button.colab-df-convert');\n",
              "        buttonEl.style.display =\n",
              "          google.colab.kernel.accessAllowed ? 'block' : 'none';\n",
              "\n",
              "        async function convertToInteractive(key) {\n",
              "          const element = document.querySelector('#df-cb8c3c7c-55ed-419b-922b-f8697ddc12f7');\n",
              "          const dataTable =\n",
              "            await google.colab.kernel.invokeFunction('convertToInteractive',\n",
              "                                                     [key], {});\n",
              "          if (!dataTable) return;\n",
              "\n",
              "          const docLinkHtml = 'Like what you see? Visit the ' +\n",
              "            '<a target=\"_blank\" href=https://colab.research.google.com/notebooks/data_table.ipynb>data table notebook</a>'\n",
              "            + ' to learn more about interactive tables.';\n",
              "          element.innerHTML = '';\n",
              "          dataTable['output_type'] = 'display_data';\n",
              "          await google.colab.output.renderOutput(dataTable, element);\n",
              "          const docLink = document.createElement('div');\n",
              "          docLink.innerHTML = docLinkHtml;\n",
              "          element.appendChild(docLink);\n",
              "        }\n",
              "      </script>\n",
              "    </div>\n",
              "  </div>\n",
              "  "
            ],
            "text/plain": [
              "       Tracker name           Start time  ...       Stop address Net driving time\n",
              "0  AJAI KUMAR SINGH  2022-01-15 02:46:27  ...  7.365098,3.868221          0:11:07\n",
              "\n",
              "[1 rows x 8 columns]"
            ]
          },
          "metadata": {},
          "execution_count": 68
        }
      ]
    },
    {
      "cell_type": "markdown",
      "source": [
        "Install Nominatim to to set the proxies and other dependencies needed to configure the geolocator"
      ],
      "metadata": {
        "id": "U9PlyOM7dZSv"
      }
    },
    {
      "cell_type": "code",
      "source": [
        "from geopy import Nominatim"
      ],
      "metadata": {
        "id": "Ed5Tp2hWtrn2"
      },
      "execution_count": 6,
      "outputs": []
    },
    {
      "cell_type": "code",
      "source": [
        "geolocator = Nominatim(user_agent=\"geoapiExercises\")"
      ],
      "metadata": {
        "id": "X5qzkPpntF_I"
      },
      "execution_count": 7,
      "outputs": []
    },
    {
      "cell_type": "markdown",
      "source": [
        "Use the geolocator to generate access the longitude and latitude."
      ],
      "metadata": {
        "id": "eEzBF_hyd4hR"
      }
    },
    {
      "cell_type": "code",
      "source": [
        "database['Start_Address'] = geolocator.geocode(database['Start address'])\n",
        "database.tail(1)"
      ],
      "metadata": {
        "id": "eU2RAwfyuBe3",
        "colab": {
          "base_uri": "https://localhost:8080/",
          "height": 160
        },
        "outputId": "f23dd525-806d-40e2-8c6a-73a5bf75cd49"
      },
      "execution_count": 66,
      "outputs": [
        {
          "output_type": "execute_result",
          "data": {
            "text/html": [
              "\n",
              "  <div id=\"df-52d1f76e-8d7b-4b0b-a879-3f24502ddfc5\">\n",
              "    <div class=\"colab-df-container\">\n",
              "      <div>\n",
              "<style scoped>\n",
              "    .dataframe tbody tr th:only-of-type {\n",
              "        vertical-align: middle;\n",
              "    }\n",
              "\n",
              "    .dataframe tbody tr th {\n",
              "        vertical-align: top;\n",
              "    }\n",
              "\n",
              "    .dataframe thead th {\n",
              "        text-align: right;\n",
              "    }\n",
              "</style>\n",
              "<table border=\"1\" class=\"dataframe\">\n",
              "  <thead>\n",
              "    <tr style=\"text-align: right;\">\n",
              "      <th></th>\n",
              "      <th>Tracker name</th>\n",
              "      <th>Start time</th>\n",
              "      <th>Stop time</th>\n",
              "      <th>Duration</th>\n",
              "      <th>Total Distance</th>\n",
              "      <th>Start address</th>\n",
              "      <th>Stop address</th>\n",
              "      <th>Net driving time</th>\n",
              "      <th>Start_Address</th>\n",
              "      <th>Stop_Address</th>\n",
              "    </tr>\n",
              "  </thead>\n",
              "  <tbody>\n",
              "    <tr>\n",
              "      <th>68</th>\n",
              "      <td>NaN</td>\n",
              "      <td>NaN</td>\n",
              "      <td>NaN</td>\n",
              "      <td>Total:159:20</td>\n",
              "      <td>Total:1242.35</td>\n",
              "      <td>NaN</td>\n",
              "      <td>NaN</td>\n",
              "      <td>Total:159:20:17</td>\n",
              "      <td>None</td>\n",
              "      <td>Nanno, Ville d'Anaunia, Comunità della Val di ...</td>\n",
              "    </tr>\n",
              "  </tbody>\n",
              "</table>\n",
              "</div>\n",
              "      <button class=\"colab-df-convert\" onclick=\"convertToInteractive('df-52d1f76e-8d7b-4b0b-a879-3f24502ddfc5')\"\n",
              "              title=\"Convert this dataframe to an interactive table.\"\n",
              "              style=\"display:none;\">\n",
              "        \n",
              "  <svg xmlns=\"http://www.w3.org/2000/svg\" height=\"24px\"viewBox=\"0 0 24 24\"\n",
              "       width=\"24px\">\n",
              "    <path d=\"M0 0h24v24H0V0z\" fill=\"none\"/>\n",
              "    <path d=\"M18.56 5.44l.94 2.06.94-2.06 2.06-.94-2.06-.94-.94-2.06-.94 2.06-2.06.94zm-11 1L8.5 8.5l.94-2.06 2.06-.94-2.06-.94L8.5 2.5l-.94 2.06-2.06.94zm10 10l.94 2.06.94-2.06 2.06-.94-2.06-.94-.94-2.06-.94 2.06-2.06.94z\"/><path d=\"M17.41 7.96l-1.37-1.37c-.4-.4-.92-.59-1.43-.59-.52 0-1.04.2-1.43.59L10.3 9.45l-7.72 7.72c-.78.78-.78 2.05 0 2.83L4 21.41c.39.39.9.59 1.41.59.51 0 1.02-.2 1.41-.59l7.78-7.78 2.81-2.81c.8-.78.8-2.07 0-2.86zM5.41 20L4 18.59l7.72-7.72 1.47 1.35L5.41 20z\"/>\n",
              "  </svg>\n",
              "      </button>\n",
              "      \n",
              "  <style>\n",
              "    .colab-df-container {\n",
              "      display:flex;\n",
              "      flex-wrap:wrap;\n",
              "      gap: 12px;\n",
              "    }\n",
              "\n",
              "    .colab-df-convert {\n",
              "      background-color: #E8F0FE;\n",
              "      border: none;\n",
              "      border-radius: 50%;\n",
              "      cursor: pointer;\n",
              "      display: none;\n",
              "      fill: #1967D2;\n",
              "      height: 32px;\n",
              "      padding: 0 0 0 0;\n",
              "      width: 32px;\n",
              "    }\n",
              "\n",
              "    .colab-df-convert:hover {\n",
              "      background-color: #E2EBFA;\n",
              "      box-shadow: 0px 1px 2px rgba(60, 64, 67, 0.3), 0px 1px 3px 1px rgba(60, 64, 67, 0.15);\n",
              "      fill: #174EA6;\n",
              "    }\n",
              "\n",
              "    [theme=dark] .colab-df-convert {\n",
              "      background-color: #3B4455;\n",
              "      fill: #D2E3FC;\n",
              "    }\n",
              "\n",
              "    [theme=dark] .colab-df-convert:hover {\n",
              "      background-color: #434B5C;\n",
              "      box-shadow: 0px 1px 3px 1px rgba(0, 0, 0, 0.15);\n",
              "      filter: drop-shadow(0px 1px 2px rgba(0, 0, 0, 0.3));\n",
              "      fill: #FFFFFF;\n",
              "    }\n",
              "  </style>\n",
              "\n",
              "      <script>\n",
              "        const buttonEl =\n",
              "          document.querySelector('#df-52d1f76e-8d7b-4b0b-a879-3f24502ddfc5 button.colab-df-convert');\n",
              "        buttonEl.style.display =\n",
              "          google.colab.kernel.accessAllowed ? 'block' : 'none';\n",
              "\n",
              "        async function convertToInteractive(key) {\n",
              "          const element = document.querySelector('#df-52d1f76e-8d7b-4b0b-a879-3f24502ddfc5');\n",
              "          const dataTable =\n",
              "            await google.colab.kernel.invokeFunction('convertToInteractive',\n",
              "                                                     [key], {});\n",
              "          if (!dataTable) return;\n",
              "\n",
              "          const docLinkHtml = 'Like what you see? Visit the ' +\n",
              "            '<a target=\"_blank\" href=https://colab.research.google.com/notebooks/data_table.ipynb>data table notebook</a>'\n",
              "            + ' to learn more about interactive tables.';\n",
              "          element.innerHTML = '';\n",
              "          dataTable['output_type'] = 'display_data';\n",
              "          await google.colab.output.renderOutput(dataTable, element);\n",
              "          const docLink = document.createElement('div');\n",
              "          docLink.innerHTML = docLinkHtml;\n",
              "          element.appendChild(docLink);\n",
              "        }\n",
              "      </script>\n",
              "    </div>\n",
              "  </div>\n",
              "  "
            ],
            "text/plain": [
              "   Tracker name  ...                                       Stop_Address\n",
              "68          NaN  ...  Nanno, Ville d'Anaunia, Comunità della Val di ...\n",
              "\n",
              "[1 rows x 10 columns]"
            ]
          },
          "metadata": {},
          "execution_count": 66
        }
      ]
    },
    {
      "cell_type": "code",
      "source": [
        "database['Stop_Address'] = geolocator.geocode(database['Stop address'])"
      ],
      "metadata": {
        "id": "bKSIkoGbxmWm"
      },
      "execution_count": 22,
      "outputs": []
    },
    {
      "cell_type": "code",
      "source": [
        "database.head(1)"
      ],
      "metadata": {
        "colab": {
          "base_uri": "https://localhost:8080/",
          "height": 194
        },
        "id": "EG-ZYkfrxzoa",
        "outputId": "f8c492ef-28d1-4031-ddf9-5665fbda1171"
      },
      "execution_count": 65,
      "outputs": [
        {
          "output_type": "execute_result",
          "data": {
            "text/html": [
              "\n",
              "  <div id=\"df-db195c6d-d03d-4060-9326-fa7df2c008cc\">\n",
              "    <div class=\"colab-df-container\">\n",
              "      <div>\n",
              "<style scoped>\n",
              "    .dataframe tbody tr th:only-of-type {\n",
              "        vertical-align: middle;\n",
              "    }\n",
              "\n",
              "    .dataframe tbody tr th {\n",
              "        vertical-align: top;\n",
              "    }\n",
              "\n",
              "    .dataframe thead th {\n",
              "        text-align: right;\n",
              "    }\n",
              "</style>\n",
              "<table border=\"1\" class=\"dataframe\">\n",
              "  <thead>\n",
              "    <tr style=\"text-align: right;\">\n",
              "      <th></th>\n",
              "      <th>Tracker name</th>\n",
              "      <th>Start time</th>\n",
              "      <th>Stop time</th>\n",
              "      <th>Duration</th>\n",
              "      <th>Total Distance</th>\n",
              "      <th>Start address</th>\n",
              "      <th>Stop address</th>\n",
              "      <th>Net driving time</th>\n",
              "      <th>Start_Address</th>\n",
              "      <th>Stop_Address</th>\n",
              "    </tr>\n",
              "  </thead>\n",
              "  <tbody>\n",
              "    <tr>\n",
              "      <th>0</th>\n",
              "      <td>AJAI KUMAR SINGH</td>\n",
              "      <td>2022-01-15 02:46:27</td>\n",
              "      <td>2022-01-15 02:57:34</td>\n",
              "      <td>0:11</td>\n",
              "      <td>0.02</td>\n",
              "      <td>7.365020,3.868126</td>\n",
              "      <td>7.365098,3.868221</td>\n",
              "      <td>0:11:07</td>\n",
              "      <td>Ibadan, Ibadan South West, Oyo, 200253, Nigeria</td>\n",
              "      <td>Ibadan, Ibadan South West, Oyo, 200253, Nigeria</td>\n",
              "    </tr>\n",
              "  </tbody>\n",
              "</table>\n",
              "</div>\n",
              "      <button class=\"colab-df-convert\" onclick=\"convertToInteractive('df-db195c6d-d03d-4060-9326-fa7df2c008cc')\"\n",
              "              title=\"Convert this dataframe to an interactive table.\"\n",
              "              style=\"display:none;\">\n",
              "        \n",
              "  <svg xmlns=\"http://www.w3.org/2000/svg\" height=\"24px\"viewBox=\"0 0 24 24\"\n",
              "       width=\"24px\">\n",
              "    <path d=\"M0 0h24v24H0V0z\" fill=\"none\"/>\n",
              "    <path d=\"M18.56 5.44l.94 2.06.94-2.06 2.06-.94-2.06-.94-.94-2.06-.94 2.06-2.06.94zm-11 1L8.5 8.5l.94-2.06 2.06-.94-2.06-.94L8.5 2.5l-.94 2.06-2.06.94zm10 10l.94 2.06.94-2.06 2.06-.94-2.06-.94-.94-2.06-.94 2.06-2.06.94z\"/><path d=\"M17.41 7.96l-1.37-1.37c-.4-.4-.92-.59-1.43-.59-.52 0-1.04.2-1.43.59L10.3 9.45l-7.72 7.72c-.78.78-.78 2.05 0 2.83L4 21.41c.39.39.9.59 1.41.59.51 0 1.02-.2 1.41-.59l7.78-7.78 2.81-2.81c.8-.78.8-2.07 0-2.86zM5.41 20L4 18.59l7.72-7.72 1.47 1.35L5.41 20z\"/>\n",
              "  </svg>\n",
              "      </button>\n",
              "      \n",
              "  <style>\n",
              "    .colab-df-container {\n",
              "      display:flex;\n",
              "      flex-wrap:wrap;\n",
              "      gap: 12px;\n",
              "    }\n",
              "\n",
              "    .colab-df-convert {\n",
              "      background-color: #E8F0FE;\n",
              "      border: none;\n",
              "      border-radius: 50%;\n",
              "      cursor: pointer;\n",
              "      display: none;\n",
              "      fill: #1967D2;\n",
              "      height: 32px;\n",
              "      padding: 0 0 0 0;\n",
              "      width: 32px;\n",
              "    }\n",
              "\n",
              "    .colab-df-convert:hover {\n",
              "      background-color: #E2EBFA;\n",
              "      box-shadow: 0px 1px 2px rgba(60, 64, 67, 0.3), 0px 1px 3px 1px rgba(60, 64, 67, 0.15);\n",
              "      fill: #174EA6;\n",
              "    }\n",
              "\n",
              "    [theme=dark] .colab-df-convert {\n",
              "      background-color: #3B4455;\n",
              "      fill: #D2E3FC;\n",
              "    }\n",
              "\n",
              "    [theme=dark] .colab-df-convert:hover {\n",
              "      background-color: #434B5C;\n",
              "      box-shadow: 0px 1px 3px 1px rgba(0, 0, 0, 0.15);\n",
              "      filter: drop-shadow(0px 1px 2px rgba(0, 0, 0, 0.3));\n",
              "      fill: #FFFFFF;\n",
              "    }\n",
              "  </style>\n",
              "\n",
              "      <script>\n",
              "        const buttonEl =\n",
              "          document.querySelector('#df-db195c6d-d03d-4060-9326-fa7df2c008cc button.colab-df-convert');\n",
              "        buttonEl.style.display =\n",
              "          google.colab.kernel.accessAllowed ? 'block' : 'none';\n",
              "\n",
              "        async function convertToInteractive(key) {\n",
              "          const element = document.querySelector('#df-db195c6d-d03d-4060-9326-fa7df2c008cc');\n",
              "          const dataTable =\n",
              "            await google.colab.kernel.invokeFunction('convertToInteractive',\n",
              "                                                     [key], {});\n",
              "          if (!dataTable) return;\n",
              "\n",
              "          const docLinkHtml = 'Like what you see? Visit the ' +\n",
              "            '<a target=\"_blank\" href=https://colab.research.google.com/notebooks/data_table.ipynb>data table notebook</a>'\n",
              "            + ' to learn more about interactive tables.';\n",
              "          element.innerHTML = '';\n",
              "          dataTable['output_type'] = 'display_data';\n",
              "          await google.colab.output.renderOutput(dataTable, element);\n",
              "          const docLink = document.createElement('div');\n",
              "          docLink.innerHTML = docLinkHtml;\n",
              "          element.appendChild(docLink);\n",
              "        }\n",
              "      </script>\n",
              "    </div>\n",
              "  </div>\n",
              "  "
            ],
            "text/plain": [
              "       Tracker name  ...                                     Stop_Address\n",
              "0  AJAI KUMAR SINGH  ...  Ibadan, Ibadan South West, Oyo, 200253, Nigeria\n",
              "\n",
              "[1 rows x 10 columns]"
            ]
          },
          "metadata": {},
          "execution_count": 65
        }
      ]
    },
    {
      "cell_type": "markdown",
      "source": [
        "Loop through the dataset to "
      ],
      "metadata": {
        "id": "qYJMS2XCei_n"
      }
    },
    {
      "cell_type": "code",
      "source": [
        "Start_Address = []\n",
        "Stop_Address = []\n",
        "for i in range(len(database)):\n",
        "  Start_Address.append(geolocator.geocode(database['Start address'][i]).address)\n",
        "  Stop_Address.append(geolocator.geocode(database['Stop address'][i]).address)"
      ],
      "metadata": {
        "id": "lPYbAsoYz2sw"
      },
      "execution_count": 46,
      "outputs": []
    },
    {
      "cell_type": "code",
      "source": [
        "database['Stop_Address'] = Stop_Address\n",
        "database.head(1)"
      ],
      "metadata": {
        "colab": {
          "base_uri": "https://localhost:8080/",
          "height": 194
        },
        "id": "jOb_GHbOb2La",
        "outputId": "3134beb4-2b26-4c81-b909-96a704bd6a62"
      },
      "execution_count": 56,
      "outputs": [
        {
          "output_type": "execute_result",
          "data": {
            "text/html": [
              "\n",
              "  <div id=\"df-62f5aefb-69a8-4d0a-96a8-919e0bf7e7d2\">\n",
              "    <div class=\"colab-df-container\">\n",
              "      <div>\n",
              "<style scoped>\n",
              "    .dataframe tbody tr th:only-of-type {\n",
              "        vertical-align: middle;\n",
              "    }\n",
              "\n",
              "    .dataframe tbody tr th {\n",
              "        vertical-align: top;\n",
              "    }\n",
              "\n",
              "    .dataframe thead th {\n",
              "        text-align: right;\n",
              "    }\n",
              "</style>\n",
              "<table border=\"1\" class=\"dataframe\">\n",
              "  <thead>\n",
              "    <tr style=\"text-align: right;\">\n",
              "      <th></th>\n",
              "      <th>Tracker name</th>\n",
              "      <th>Start time</th>\n",
              "      <th>Stop time</th>\n",
              "      <th>Duration</th>\n",
              "      <th>Total Distance</th>\n",
              "      <th>Start address</th>\n",
              "      <th>Stop address</th>\n",
              "      <th>Net driving time</th>\n",
              "      <th>Start_Address</th>\n",
              "      <th>Stop_Address</th>\n",
              "    </tr>\n",
              "  </thead>\n",
              "  <tbody>\n",
              "    <tr>\n",
              "      <th>0</th>\n",
              "      <td>AJAI KUMAR SINGH</td>\n",
              "      <td>2022-01-15 02:46:27</td>\n",
              "      <td>2022-01-15 02:57:34</td>\n",
              "      <td>0:11</td>\n",
              "      <td>0.02</td>\n",
              "      <td>7.365020,3.868126</td>\n",
              "      <td>7.365098,3.868221</td>\n",
              "      <td>0:11:07</td>\n",
              "      <td>Ibadan, Ibadan South West, Oyo, 200253, Nigeria</td>\n",
              "      <td>Ibadan, Ibadan South West, Oyo, 200253, Nigeria</td>\n",
              "    </tr>\n",
              "  </tbody>\n",
              "</table>\n",
              "</div>\n",
              "      <button class=\"colab-df-convert\" onclick=\"convertToInteractive('df-62f5aefb-69a8-4d0a-96a8-919e0bf7e7d2')\"\n",
              "              title=\"Convert this dataframe to an interactive table.\"\n",
              "              style=\"display:none;\">\n",
              "        \n",
              "  <svg xmlns=\"http://www.w3.org/2000/svg\" height=\"24px\"viewBox=\"0 0 24 24\"\n",
              "       width=\"24px\">\n",
              "    <path d=\"M0 0h24v24H0V0z\" fill=\"none\"/>\n",
              "    <path d=\"M18.56 5.44l.94 2.06.94-2.06 2.06-.94-2.06-.94-.94-2.06-.94 2.06-2.06.94zm-11 1L8.5 8.5l.94-2.06 2.06-.94-2.06-.94L8.5 2.5l-.94 2.06-2.06.94zm10 10l.94 2.06.94-2.06 2.06-.94-2.06-.94-.94-2.06-.94 2.06-2.06.94z\"/><path d=\"M17.41 7.96l-1.37-1.37c-.4-.4-.92-.59-1.43-.59-.52 0-1.04.2-1.43.59L10.3 9.45l-7.72 7.72c-.78.78-.78 2.05 0 2.83L4 21.41c.39.39.9.59 1.41.59.51 0 1.02-.2 1.41-.59l7.78-7.78 2.81-2.81c.8-.78.8-2.07 0-2.86zM5.41 20L4 18.59l7.72-7.72 1.47 1.35L5.41 20z\"/>\n",
              "  </svg>\n",
              "      </button>\n",
              "      \n",
              "  <style>\n",
              "    .colab-df-container {\n",
              "      display:flex;\n",
              "      flex-wrap:wrap;\n",
              "      gap: 12px;\n",
              "    }\n",
              "\n",
              "    .colab-df-convert {\n",
              "      background-color: #E8F0FE;\n",
              "      border: none;\n",
              "      border-radius: 50%;\n",
              "      cursor: pointer;\n",
              "      display: none;\n",
              "      fill: #1967D2;\n",
              "      height: 32px;\n",
              "      padding: 0 0 0 0;\n",
              "      width: 32px;\n",
              "    }\n",
              "\n",
              "    .colab-df-convert:hover {\n",
              "      background-color: #E2EBFA;\n",
              "      box-shadow: 0px 1px 2px rgba(60, 64, 67, 0.3), 0px 1px 3px 1px rgba(60, 64, 67, 0.15);\n",
              "      fill: #174EA6;\n",
              "    }\n",
              "\n",
              "    [theme=dark] .colab-df-convert {\n",
              "      background-color: #3B4455;\n",
              "      fill: #D2E3FC;\n",
              "    }\n",
              "\n",
              "    [theme=dark] .colab-df-convert:hover {\n",
              "      background-color: #434B5C;\n",
              "      box-shadow: 0px 1px 3px 1px rgba(0, 0, 0, 0.15);\n",
              "      filter: drop-shadow(0px 1px 2px rgba(0, 0, 0, 0.3));\n",
              "      fill: #FFFFFF;\n",
              "    }\n",
              "  </style>\n",
              "\n",
              "      <script>\n",
              "        const buttonEl =\n",
              "          document.querySelector('#df-62f5aefb-69a8-4d0a-96a8-919e0bf7e7d2 button.colab-df-convert');\n",
              "        buttonEl.style.display =\n",
              "          google.colab.kernel.accessAllowed ? 'block' : 'none';\n",
              "\n",
              "        async function convertToInteractive(key) {\n",
              "          const element = document.querySelector('#df-62f5aefb-69a8-4d0a-96a8-919e0bf7e7d2');\n",
              "          const dataTable =\n",
              "            await google.colab.kernel.invokeFunction('convertToInteractive',\n",
              "                                                     [key], {});\n",
              "          if (!dataTable) return;\n",
              "\n",
              "          const docLinkHtml = 'Like what you see? Visit the ' +\n",
              "            '<a target=\"_blank\" href=https://colab.research.google.com/notebooks/data_table.ipynb>data table notebook</a>'\n",
              "            + ' to learn more about interactive tables.';\n",
              "          element.innerHTML = '';\n",
              "          dataTable['output_type'] = 'display_data';\n",
              "          await google.colab.output.renderOutput(dataTable, element);\n",
              "          const docLink = document.createElement('div');\n",
              "          docLink.innerHTML = docLinkHtml;\n",
              "          element.appendChild(docLink);\n",
              "        }\n",
              "      </script>\n",
              "    </div>\n",
              "  </div>\n",
              "  "
            ],
            "text/plain": [
              "       Tracker name  ...                                     Stop_Address\n",
              "0  AJAI KUMAR SINGH  ...  Ibadan, Ibadan South West, Oyo, 200253, Nigeria\n",
              "\n",
              "[1 rows x 10 columns]"
            ]
          },
          "metadata": {},
          "execution_count": 56
        }
      ]
    },
    {
      "cell_type": "code",
      "source": [
        "database['Start_Address'] = Start_Address\n",
        "database.tail(1)"
      ],
      "metadata": {
        "colab": {
          "base_uri": "https://localhost:8080/",
          "height": 160
        },
        "id": "n8ChqcJUfbDb",
        "outputId": "7a23909a-d302-427f-c2bd-31dea9e1ecd2"
      },
      "execution_count": 69,
      "outputs": [
        {
          "output_type": "execute_result",
          "data": {
            "text/html": [
              "\n",
              "  <div id=\"df-5c5a76f2-d041-4551-85d1-be5b91691082\">\n",
              "    <div class=\"colab-df-container\">\n",
              "      <div>\n",
              "<style scoped>\n",
              "    .dataframe tbody tr th:only-of-type {\n",
              "        vertical-align: middle;\n",
              "    }\n",
              "\n",
              "    .dataframe tbody tr th {\n",
              "        vertical-align: top;\n",
              "    }\n",
              "\n",
              "    .dataframe thead th {\n",
              "        text-align: right;\n",
              "    }\n",
              "</style>\n",
              "<table border=\"1\" class=\"dataframe\">\n",
              "  <thead>\n",
              "    <tr style=\"text-align: right;\">\n",
              "      <th></th>\n",
              "      <th>Tracker name</th>\n",
              "      <th>Start time</th>\n",
              "      <th>Stop time</th>\n",
              "      <th>Duration</th>\n",
              "      <th>Total Distance</th>\n",
              "      <th>Start address</th>\n",
              "      <th>Stop address</th>\n",
              "      <th>Net driving time</th>\n",
              "      <th>Start_Address</th>\n",
              "    </tr>\n",
              "  </thead>\n",
              "  <tbody>\n",
              "    <tr>\n",
              "      <th>68</th>\n",
              "      <td>NaN</td>\n",
              "      <td>NaN</td>\n",
              "      <td>NaN</td>\n",
              "      <td>Total:159:20</td>\n",
              "      <td>Total:1242.35</td>\n",
              "      <td>NaN</td>\n",
              "      <td>NaN</td>\n",
              "      <td>Total:159:20:17</td>\n",
              "      <td>Nanno, Ville d'Anaunia, Comunità della Val di ...</td>\n",
              "    </tr>\n",
              "  </tbody>\n",
              "</table>\n",
              "</div>\n",
              "      <button class=\"colab-df-convert\" onclick=\"convertToInteractive('df-5c5a76f2-d041-4551-85d1-be5b91691082')\"\n",
              "              title=\"Convert this dataframe to an interactive table.\"\n",
              "              style=\"display:none;\">\n",
              "        \n",
              "  <svg xmlns=\"http://www.w3.org/2000/svg\" height=\"24px\"viewBox=\"0 0 24 24\"\n",
              "       width=\"24px\">\n",
              "    <path d=\"M0 0h24v24H0V0z\" fill=\"none\"/>\n",
              "    <path d=\"M18.56 5.44l.94 2.06.94-2.06 2.06-.94-2.06-.94-.94-2.06-.94 2.06-2.06.94zm-11 1L8.5 8.5l.94-2.06 2.06-.94-2.06-.94L8.5 2.5l-.94 2.06-2.06.94zm10 10l.94 2.06.94-2.06 2.06-.94-2.06-.94-.94-2.06-.94 2.06-2.06.94z\"/><path d=\"M17.41 7.96l-1.37-1.37c-.4-.4-.92-.59-1.43-.59-.52 0-1.04.2-1.43.59L10.3 9.45l-7.72 7.72c-.78.78-.78 2.05 0 2.83L4 21.41c.39.39.9.59 1.41.59.51 0 1.02-.2 1.41-.59l7.78-7.78 2.81-2.81c.8-.78.8-2.07 0-2.86zM5.41 20L4 18.59l7.72-7.72 1.47 1.35L5.41 20z\"/>\n",
              "  </svg>\n",
              "      </button>\n",
              "      \n",
              "  <style>\n",
              "    .colab-df-container {\n",
              "      display:flex;\n",
              "      flex-wrap:wrap;\n",
              "      gap: 12px;\n",
              "    }\n",
              "\n",
              "    .colab-df-convert {\n",
              "      background-color: #E8F0FE;\n",
              "      border: none;\n",
              "      border-radius: 50%;\n",
              "      cursor: pointer;\n",
              "      display: none;\n",
              "      fill: #1967D2;\n",
              "      height: 32px;\n",
              "      padding: 0 0 0 0;\n",
              "      width: 32px;\n",
              "    }\n",
              "\n",
              "    .colab-df-convert:hover {\n",
              "      background-color: #E2EBFA;\n",
              "      box-shadow: 0px 1px 2px rgba(60, 64, 67, 0.3), 0px 1px 3px 1px rgba(60, 64, 67, 0.15);\n",
              "      fill: #174EA6;\n",
              "    }\n",
              "\n",
              "    [theme=dark] .colab-df-convert {\n",
              "      background-color: #3B4455;\n",
              "      fill: #D2E3FC;\n",
              "    }\n",
              "\n",
              "    [theme=dark] .colab-df-convert:hover {\n",
              "      background-color: #434B5C;\n",
              "      box-shadow: 0px 1px 3px 1px rgba(0, 0, 0, 0.15);\n",
              "      filter: drop-shadow(0px 1px 2px rgba(0, 0, 0, 0.3));\n",
              "      fill: #FFFFFF;\n",
              "    }\n",
              "  </style>\n",
              "\n",
              "      <script>\n",
              "        const buttonEl =\n",
              "          document.querySelector('#df-5c5a76f2-d041-4551-85d1-be5b91691082 button.colab-df-convert');\n",
              "        buttonEl.style.display =\n",
              "          google.colab.kernel.accessAllowed ? 'block' : 'none';\n",
              "\n",
              "        async function convertToInteractive(key) {\n",
              "          const element = document.querySelector('#df-5c5a76f2-d041-4551-85d1-be5b91691082');\n",
              "          const dataTable =\n",
              "            await google.colab.kernel.invokeFunction('convertToInteractive',\n",
              "                                                     [key], {});\n",
              "          if (!dataTable) return;\n",
              "\n",
              "          const docLinkHtml = 'Like what you see? Visit the ' +\n",
              "            '<a target=\"_blank\" href=https://colab.research.google.com/notebooks/data_table.ipynb>data table notebook</a>'\n",
              "            + ' to learn more about interactive tables.';\n",
              "          element.innerHTML = '';\n",
              "          dataTable['output_type'] = 'display_data';\n",
              "          await google.colab.output.renderOutput(dataTable, element);\n",
              "          const docLink = document.createElement('div');\n",
              "          docLink.innerHTML = docLinkHtml;\n",
              "          element.appendChild(docLink);\n",
              "        }\n",
              "      </script>\n",
              "    </div>\n",
              "  </div>\n",
              "  "
            ],
            "text/plain": [
              "   Tracker name  ...                                      Start_Address\n",
              "68          NaN  ...  Nanno, Ville d'Anaunia, Comunità della Val di ...\n",
              "\n",
              "[1 rows x 9 columns]"
            ]
          },
          "metadata": {},
          "execution_count": 69
        }
      ]
    },
    {
      "cell_type": "markdown",
      "source": [
        "An alternative approach for files that have both Latitude and Longitude separated either in different list or columns"
      ],
      "metadata": {
        "id": "vC4RLy7BgDUt"
      }
    },
    {
      "cell_type": "code",
      "source": [
        "Latitude = \"7.365098\"\n",
        "Longitude = \"3.868221\""
      ],
      "metadata": {
        "id": "F0aMy7Bmx2A7"
      },
      "execution_count": 19,
      "outputs": []
    },
    {
      "cell_type": "code",
      "source": [
        "t = geolocator.geocode(Latitude + ','+ Longitude)\n",
        "t"
      ],
      "metadata": {
        "colab": {
          "base_uri": "https://localhost:8080/"
        },
        "id": "RzXExbeOz9BK",
        "outputId": "88306f24-2443-4b0f-b68f-5789b9dcd0cd"
      },
      "execution_count": 49,
      "outputs": [
        {
          "output_type": "execute_result",
          "data": {
            "text/plain": [
              "Location(Ibadan, Ibadan South West, Oyo, 200253, Nigeria, (7.3649673, 3.8683341, 0.0))"
            ]
          },
          "metadata": {},
          "execution_count": 49
        }
      ]
    },
    {
      "cell_type": "markdown",
      "source": [
        "Use the .raw function to access other information about the location."
      ],
      "metadata": {
        "id": "254cTsQUhQlz"
      }
    },
    {
      "cell_type": "code",
      "source": [
        "t.raw"
      ],
      "metadata": {
        "colab": {
          "base_uri": "https://localhost:8080/"
        },
        "id": "0GrqWm-baVFk",
        "outputId": "ad25b667-2cb0-4388-bdfa-4958670bbc8d"
      },
      "execution_count": 60,
      "outputs": [
        {
          "output_type": "execute_result",
          "data": {
            "text/plain": [
              "{'boundingbox': ['7.3640975', '7.3656217', '3.8678031', '3.8685916'],\n",
              " 'class': 'highway',\n",
              " 'display_name': 'Ibadan, Ibadan South West, Oyo, 200253, Nigeria',\n",
              " 'importance': 0.001,\n",
              " 'lat': '7.3649673',\n",
              " 'licence': 'Data © OpenStreetMap contributors, ODbL 1.0. https://osm.org/copyright',\n",
              " 'lon': '3.8683341',\n",
              " 'osm_id': 560669871,\n",
              " 'osm_type': 'way',\n",
              " 'place_id': 219187767,\n",
              " 'type': 'residential'}"
            ]
          },
          "metadata": {},
          "execution_count": 60
        }
      ]
    },
    {
      "cell_type": "markdown",
      "source": [
        "You can as well call the .address function to access any information by using the key in the raw function"
      ],
      "metadata": {
        "id": "7KMBbK7yhg4j"
      }
    },
    {
      "cell_type": "code",
      "source": [
        "t.address"
      ],
      "metadata": {
        "colab": {
          "base_uri": "https://localhost:8080/",
          "height": 36
        },
        "id": "tK4oc1wKe5Nw",
        "outputId": "53752195-bbd9-4c0a-e8d1-ac3dcee386e2"
      },
      "execution_count": 64,
      "outputs": [
        {
          "output_type": "execute_result",
          "data": {
            "application/vnd.google.colaboratory.intrinsic+json": {
              "type": "string"
            },
            "text/plain": [
              "'Ibadan, Ibadan South West, Oyo, 200253, Nigeria'"
            ]
          },
          "metadata": {},
          "execution_count": 64
        }
      ]
    },
    {
      "cell_type": "code",
      "source": [
        "database.to_csv()"
      ],
      "metadata": {
        "colab": {
          "base_uri": "https://localhost:8080/",
          "height": 165
        },
        "id": "HtU1plJ2h0So",
        "outputId": "ed29a465-492c-4ce9-b798-83d31f191b08"
      },
      "execution_count": 76,
      "outputs": [
        {
          "output_type": "execute_result",
          "data": {
            "application/vnd.google.colaboratory.intrinsic+json": {
              "type": "string"
            },
            "text/plain": [
              "',Tracker name,Start time,Stop time,Duration,Total Distance,Start address,Stop address,Net driving time,Start_Address\\n0,AJAI KUMAR SINGH,2022-01-15 02:46:27,2022-01-15 02:57:34,0:11,0.02,\"7.365020,3.868126\",\"7.365098,3.868221\",0:11:07,\"Ibadan, Ibadan South West, Oyo, 200253, Nigeria\"\\n1,AJAI KUMAR SINGH,2022-01-15 06:44:15,2022-01-15 06:55:27,0:11,0.02,\"7.365098,3.868221\",\"7.365040,3.868176\",0:11:12,\"Ibadan, Ibadan South West, Oyo, 200253, Nigeria\"\\n2,AJAI KUMAR SINGH,2022-01-15 07:47:51,2022-01-15 08:48:01,1:00,4.47,\"7.365040,3.868176\",\"7.375073,3.868891\",1:00:10,\"Ibadan, Ibadan South West, Oyo, 200253, Nigeria\"\\n3,AJAI KUMAR SINGH,2022-01-15 08:51:38,2022-01-15 10:52:45,2:01,69.19,\"7.375073,3.868891\",\"6.833640,3.897450\",2:01:07,\"Ibadan, Ibadan South West, Oyo, 200253, Nigeria\"\\n4,KARANVEER SINGH,2022-01-17 06:54:30,2022-01-17 07:04:30,0:10,0.01,\"7.374845,3.868386\",\"7.374983,3.868521\",0:10:00,\"Ibadan, Ibadan South West, Oyo, 200253, Nigeria\"\\n5,AJAI KUMAR SINGH,2022-01-17 07:53:32,2022-01-17 10:03:04,2:10,72.37,\"7.365038,3.868111\",\"6.833605,3.897495\",2:09:32,\"Ibadan, Ibadan South West, Oyo, 200253, Nigeria\"\\n6,KARANVEER SINGH,2022-01-17 08:12:03,2022-01-17 10:02:56,1:51,69.01,\"7.374983,3.868521\",\"6.833821,3.898065\",1:50:53,\"Ibadan, Ibadan South West, Oyo, 200253, Nigeria\"\\n7,AJAI KUMAR SINGH,2022-01-17 10:10:33,2022-01-17 10:24:54,0:14,0.15,\"6.833605,3.897495\",\"6.833573,3.897376\",0:14:21,\"A121, Agoro, Odogbolu, Ogun, Nigeria\"\\n8,KARANVEER SINGH,2022-01-17 10:45:34,2022-01-17 11:02:46,0:17,0.21,\"6.833821,3.898065\",\"6.833906,3.898035\",0:17:12,\"Odogbolu, Ogun, Nigeria\"\\n9,KARANVEER SINGH,2022-01-17 11:14:15,2022-01-17 11:34:07,0:20,0.11,\"6.833906,3.898035\",\"6.833736,3.897950\",0:19:52,\"Odogbolu, Ogun, Nigeria\"\\n10,KARANVEER SINGH,2022-01-17 16:57:20,2022-01-17 18:45:15,1:48,69.50,\"6.833736,3.897950\",\"7.374911,3.868531\",1:47:55,\"Odogbolu, Ogun, Nigeria\"\\n11,Darrent Bent,2022-01-17 17:58:25,2022-01-17 18:08:58,0:11,0.14,\"6.866456,3.646065\",\"52.052425,-2.144018\",0:10:33,\"Shagamu, Ogun, 110271, Nigeria\"\\n12,Darrent Bent,2022-01-17 19:36:33,2022-01-17 19:49:55,0:13,0.39,\"52.052425,-2.144018\",\"52.052566,-2.143923\",0:13:22,\"16, Twyning Road, Strensham Court Mews, Strensham, Upper Strensham, Worcester, Worcestershire, West Midlands, England, WR8 9LH, United Kingdom\"\\n13,Darrent Bent,2022-01-17 21:15:59,2022-01-18 08:40:16,11:24,0.06,\"52.052566,-2.143923\",\"52.052736,-2.143893\",11:24:17,\"16, Twyning Road, Strensham Court Mews, Strensham, Upper Strensham, Worcester, Worcestershire, West Midlands, England, WR8 9LH, United Kingdom\"\\n14,KARANVEER SINGH,2022-01-17 22:10:11,2022-01-17 22:20:22,0:10,0.04,\"7.374911,3.868531\",\"7.374956,3.868438\",0:10:11,\"Ibadan, Ibadan South West, Oyo, 200253, Nigeria\"\\n15,AJAI KUMAR SINGH,2022-01-18 05:55:28,2022-01-18 06:05:29,0:10,0.03,\"7.365075,3.868193\",\"7.365098,3.868240\",0:10:01,\"Ibadan, Ibadan South West, Oyo, 200253, Nigeria\"\\n16,AJAI KUMAR SINGH,2022-01-18 06:29:08,2022-01-18 06:40:55,0:12,0.06,\"7.365098,3.868240\",\"7.365066,3.868206\",0:11:47,\"Ibadan, Ibadan South West, Oyo, 200253, Nigeria\"\\n17,KARANVEER SINGH,2022-01-18 07:00:16,2022-01-18 07:10:16,0:10,0.01,\"7.374956,3.868438\",\"7.375028,3.868593\",0:10:00,\"Ibadan, Ibadan South West, Oyo, 200253, Nigeria\"\\n18,AJAI KUMAR SINGH,2022-01-18 07:09:48,2022-01-18 07:40:03,0:30,4.32,\"7.365066,3.868206\",\"7.374866,3.868495\",0:30:15,\"Ibadan, Ibadan South West, Oyo, 200253, Nigeria\"\\n19,KARANVEER SINGH,2022-01-18 07:49:19,2022-01-18 09:26:05,1:37,68.96,\"7.375028,3.868593\",\"6.833780,3.897973\",1:36:46,\"Ibadan, Ibadan South West, Oyo, 200253, Nigeria\"\\n20,AJAI KUMAR SINGH,2022-01-18 07:51:16,2022-01-18 14:22:19,6:31,72.71,\"7.374866,3.868495\",\"6.833715,3.897938\",6:31:03,\"Ibadan, Ibadan South West, Oyo, 200253, Nigeria\"\\n21,KARANVEER SINGH,2022-01-18 09:33:59,2022-01-18 09:47:28,0:13,0.27,\"6.833780,3.897973\",\"6.834173,3.898306\",0:13:29,\"Odogbolu, Ogun, Nigeria\"\\n22,KARANVEER SINGH,2022-01-18 10:09:27,2022-01-18 10:24:03,0:15,0.32,\"6.834173,3.898306\",\"6.833825,3.897940\",0:14:36,\"Odogbolu, Ogun, Nigeria\"\\n23,Darrent Bent,2022-01-18 10:16:02,2022-01-19 16:34:36,30:19,33.02,\"52.052736,-2.143893\",\"6.460236,3.454961\",30:18:34,\"16, Twyning Road, Strensham Court Mews, Strensham, Upper Strensham, Worcester, Worcestershire, West Midlands, England, WR8 9LH, United Kingdom\"\\n24,KARANVEER SINGH,2022-01-18 10:24:20,2022-01-18 10:37:06,0:13,0.06,\"6.833825,3.897940\",\"6.833748,3.897960\",0:12:46,\"Odogbolu, Ogun, Nigeria\"\\n25,AJAI KUMAR SINGH,2022-01-18 14:26:07,2022-01-18 21:45:41,7:20,6.17,\"6.833715,3.897938\",\"7.365100,3.868143\",7:19:34,\"Odogbolu, Ogun, Nigeria\"\\n26,KARANVEER SINGH,2022-01-18 16:34:50,2022-01-18 18:59:01,2:24,69.70,\"6.833748,3.897960\",\"7.374980,3.868563\",2:24:11,\"Odogbolu, Ogun, Nigeria\"\\n27,ABAYOMI ALLI NEW,2022-01-18 17:14:21,2022-01-19 09:12:15,15:58,0.04,\"6.574603,3.362876\",\"6.574716,3.363070\",15:57:54,\"Shonny Highway, Onigbongbo, Ikeja, Lagos, 100271, Nigeria\"\\n28,UCHENNA NWAKAMA NEW,2022-01-18 18:18:27,2022-01-19 09:26:48,15:08,0.00,\"6.574556,3.362798\",\"6.574800,3.363036\",15:08:21,\"Mobolaji Bank-Anthony Way, Oregun, Ikeja, Lagos, 100271, Nigeria\"\\n29,KARANVEER SINGH,2022-01-18 22:41:45,2022-01-18 22:52:06,0:10,0.03,\"7.374980,3.868563\",\"7.374951,3.868500\",0:10:21,\"Ibadan, Ibadan South West, Oyo, 200253, Nigeria\"\\n30,AJAI KUMAR SINGH,2022-01-19 05:27:41,2022-01-19 05:37:41,0:10,0.03,\"7.365100,3.868143\",\"7.365101,3.868135\",0:10:00,\"Ibadan, Ibadan South West, Oyo, 200253, Nigeria\"\\n31,AJAI KUMAR SINGH,2022-01-19 06:11:37,2022-01-19 06:28:18,0:17,0.04,\"7.365101,3.868135\",\"7.365065,3.868143\",0:16:41,\"Ibadan, Ibadan South West, Oyo, 200253, Nigeria\"\\n32,AJAI KUMAR SINGH,2022-01-19 07:51:00,2022-01-19 22:00:09,14:09,76.18,\"7.365065,3.868143\",\"7.365103,3.868171\",14:09:09,\"Ibadan, Ibadan South West, Oyo, 200253, Nigeria\"\\n33,KARANVEER SINGH,2022-01-19 08:06:02,2022-01-19 08:16:10,0:10,0.02,\"7.374951,3.868500\",\"7.374913,3.868640\",0:10:08,\"Ibadan, Ibadan South West, Oyo, 200253, Nigeria\"\\n34,KARANVEER SINGH,2022-01-19 08:16:54,2022-01-19 10:07:18,1:50,69.59,\"7.374913,3.868640\",\"6.833780,3.897855\",1:50:24,\"Ibadan, Ibadan South West, Oyo, 200253, Nigeria\"\\n35,ABAYOMI ALLI NEW,2022-01-19 09:16:48,2022-01-19 09:31:52,0:15,0.00,\"6.574716,3.363070\",\"6.574725,3.362971\",0:15:04,\"Shonny Highway, Onigbongbo, Ikeja, Lagos, 100271, Nigeria\"\\n36,KARANVEER SINGH,2022-01-19 12:31:53,2022-01-19 12:53:47,0:22,0.06,\"6.833780,3.897855\",\"6.833751,3.897945\",0:21:54,\"A121, Agoro, Odogbolu, Ogun, Nigeria\"\\n37,KARANVEER SINGH,2022-01-19 13:48:14,2022-01-19 13:58:28,0:10,0.03,\"6.833751,3.897945\",\"6.833823,3.898155\",0:10:14,\"Odogbolu, Ogun, Nigeria\"\\n38,KARANVEER SINGH,2022-01-19 15:17:05,2022-01-19 15:27:05,0:10,0.02,\"6.833823,3.898155\",\"6.833823,3.897918\",0:10:00,\"Odogbolu, Ogun, Nigeria\"\\n39,KARANVEER SINGH,2022-01-19 16:25:31,2022-01-19 18:53:10,2:28,69.12,\"6.833823,3.897918\",\"7.374855,3.868475\",2:27:39,\"Odogbolu, Ogun, Nigeria\"\\n40,Darrent Bent,2022-01-19 17:07:13,2022-01-19 17:17:23,0:10,0.12,\"6.460236,3.454961\",\"6.460443,3.454853\",0:10:10,\"204 Close, Banana Island, Okepa, Eti Osa, Lagos, 106104, Nigeria\"\\n41,Darrent Bent,2022-01-19 17:30:19,2022-01-19 17:49:00,0:19,0.48,\"6.460443,3.454853\",\"6.460425,3.454863\",0:18:41,\"204 Close, Banana Island, Okepa, Eti Osa, Lagos, 106104, Nigeria\"\\n42,Darrent Bent,2022-01-19 20:37:14,2022-01-19 20:58:04,0:21,0.76,\"6.460425,3.454863\",\"6.460131,3.454561\",0:20:50,\"204 Close, Banana Island, Okepa, Eti Osa, Lagos, 106104, Nigeria\"\\n43,AJAI KUMAR SINGH,2022-01-19 22:37:28,2022-01-19 22:47:28,0:10,0.04,\"7.365103,3.868171\",\"7.365035,3.868200\",0:10:00,\"Ibadan, Ibadan South West, Oyo, 200253, Nigeria\"\\n44,Darrent Bent,2022-01-20 03:26:13,2022-01-20 03:36:13,0:10,0.23,\"6.460131,3.454561\",\"6.460185,3.454488\",0:10:00,\"204 Close, Banana Island, Okepa, Eti Osa, Lagos, 106104, Nigeria\"\\n45,AJAI KUMAR SINGH,2022-01-20 05:48:28,2022-01-20 05:58:30,0:10,0.03,\"7.365035,3.868200\",\"7.365125,3.868193\",0:10:02,\"Ibadan, Ibadan South West, Oyo, 200253, Nigeria\"\\n46,AJAI KUMAR SINGH,2022-01-20 07:35:23,2022-01-20 07:45:27,0:10,0.01,\"7.365125,3.868193\",\"7.365093,3.868181\",0:10:04,\"Ibadan, Ibadan South West, Oyo, 200253, Nigeria\"\\n47,AJAI KUMAR SINGH,2022-01-20 07:55:19,2022-01-20 20:14:32,12:19,123.23,\"7.365093,3.868181\",\"7.365158,3.868203\",12:19:13,\"Ibadan, Ibadan South West, Oyo, 200253, Nigeria\"\\n48,KARANVEER SINGH,2022-01-20 07:58:09,2022-01-20 08:08:14,0:10,0.02,\"7.374928,3.868500\",\"7.374878,3.868536\",0:10:05,\"Ibadan, Ibadan South West, Oyo, 200253, Nigeria\"\\n49,KARANVEER SINGH,2022-01-20 08:14:18,2022-01-20 11:36:02,3:22,114.34,\"7.374878,3.868536\",\"6.833666,3.898071\",3:21:44,\"Ibadan, Ibadan South West, Oyo, 200253, Nigeria\"\\n50,Darrent Bent,2022-01-20 08:15:44,2022-01-20 08:25:45,0:10,0.11,\"6.460185,3.454488\",\"6.460426,3.454593\",0:10:01,\"204 Close, Banana Island, Okepa, Eti Osa, Lagos, 106104, Nigeria\"\\n51,Darrent Bent,2022-01-20 08:58:09,2022-01-20 10:01:27,1:03,18.19,\"6.460426,3.454593\",\"6.460246,3.454600\",1:03:18,\"204 Close, Banana Island, Okepa, Eti Osa, Lagos, 106104, Nigeria\"\\n52,KARANVEER SINGH,2022-01-20 11:52:44,2022-01-20 12:55:30,1:03,2.19,\"6.833666,3.898071\",\"6.833611,3.898210\",1:02:46,\"Odogbolu, Ogun, Nigeria\"\\n53,KARANVEER SINGH,2022-01-20 12:58:42,2022-01-20 13:36:18,0:38,1.15,\"6.833611,3.898210\",\"6.833771,3.897971\",0:37:36,\"Odogbolu, Ogun, Nigeria\"\\n54,Darrent Bent,2022-01-20 13:41:42,2022-01-20 13:51:51,0:10,0.18,\"6.460246,3.454600\",\"6.460470,3.454590\",0:10:09,\"204 Close, Banana Island, Okepa, Eti Osa, Lagos, 106104, Nigeria\"\\n55,Darrent Bent,2022-01-20 14:29:04,2022-01-20 14:39:06,0:10,0.64,\"6.460470,3.454590\",\"6.460186,3.454525\",0:10:02,\"204 Close, Banana Island, Okepa, Eti Osa, Lagos, 106104, Nigeria\"\\n56,KARANVEER SINGH,2022-01-20 14:34:31,2022-01-20 14:55:03,0:21,0.10,\"6.833771,3.897971\",\"6.833730,3.897955\",0:20:32,\"Odogbolu, Ogun, Nigeria\"\\n57,Darrent Bent,2022-01-20 15:38:11,2022-01-20 15:48:18,0:10,0.12,\"6.460186,3.454525\",\"6.460221,3.454618\",0:10:07,\"204 Close, Banana Island, Okepa, Eti Osa, Lagos, 106104, Nigeria\"\\n58,Darrent Bent,2022-01-20 16:03:00,2022-01-20 16:13:02,0:10,0.19,\"6.460221,3.454618\",\"6.460371,3.454638\",0:10:02,\"204 Close, Banana Island, Okepa, Eti Osa, Lagos, 106104, Nigeria\"\\n59,KARANVEER SINGH,2022-01-20 16:30:22,2022-01-20 18:39:58,2:10,98.79,\"6.833730,3.897955\",\"7.374920,3.868545\",2:09:36,\"Odogbolu, Ogun, Nigeria\"\\n60,Darrent Bent,2022-01-20 17:47:38,2022-01-21 02:12:08,8:24,42.51,\"6.460371,3.454638\",\"6.460355,3.454605\",8:24:30,\"204 Close, Banana Island, Okepa, Eti Osa, Lagos, 106104, Nigeria\"\\n61,AJAI KUMAR SINGH,2022-01-20 21:19:17,2022-01-20 21:29:19,0:10,0.03,\"7.365158,3.868203\",\"7.365143,3.868283\",0:10:02,\"Ibadan, Ibadan South West, Oyo, 200253, Nigeria\"\\n62,Darrent Bent,2022-01-21 04:42:34,2022-01-21 04:54:46,0:12,0.44,\"6.460355,3.454605\",\"6.460453,3.454701\",0:12:12,\"204 Close, Banana Island, Okepa, Eti Osa, Lagos, 106104, Nigeria\"\\n63,AJAI KUMAR SINGH,2022-01-21 06:04:52,2022-01-21 06:14:52,0:10,0.08,\"7.365143,3.868283\",\"7.365040,3.868278\",0:10:00,\"Ibadan, Ibadan South West, Oyo, 200253, Nigeria\"\\n64,KARANVEER SINGH,2022-01-21 08:15:25,2022-01-21 10:18:05,2:03,69.62,\"7.374916,3.868581\",\"6.833631,3.897656\",2:02:40,\"Ibadan, Ibadan South West, Oyo, 200253, Nigeria\"\\n65,KARANVEER SINGH,2022-01-21 10:23:58,2022-01-21 10:36:37,0:13,0.43,\"6.833631,3.897656\",\"6.833768,3.897925\",0:12:39,\"A121, Agoro, Odogbolu, Ogun, Nigeria\"\\n66,Darrent Bent,2022-01-21 11:10:51,2022-01-21 12:19:06,1:08,11.69,\"6.460453,3.454701\",\"6.475586,3.382486\",1:08:15,\"204 Close, Banana Island, Okepa, Eti Osa, Lagos, 106104, Nigeria\"\\n67,Darrent Bent,2022-01-21 17:16:27,2022-01-21 17:28:53,0:12,0.15,\"6.475586,3.382486\",\"6.475525,3.382473\",0:12:26,\"Iddo Road, Iddo, Oto, Lagos Mainland, Lagos, 100242, Nigeria\"\\n68,,,,Total:159:20,Total:1242.35,,,Total:159:20:17,\"Nanno, Ville d\\'Anaunia, Comunità della Val di Non, Provincia di Trento, Trentino-Alto Adige/Südtirol, 38012, Italia\"\\n'"
            ]
          },
          "metadata": {},
          "execution_count": 76
        }
      ]
    },
    {
      "cell_type": "code",
      "source": [
        ""
      ],
      "metadata": {
        "id": "P8BeVunxi1ch"
      },
      "execution_count": null,
      "outputs": []
    }
  ]
}